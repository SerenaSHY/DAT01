{
 "cells": [
  {
   "cell_type": "markdown",
   "metadata": {},
   "source": [
    "# **Python Exercise**"
   ]
  },
  {
   "cell_type": "markdown",
   "metadata": {},
   "source": [
    "## Exercise 1: Conditional Problem\n",
    "\n",
    "**Problem:** Create a dictionary to store information about a student: name, age, grade level, and average grade.\n",
    "\n",
    "1. If the average grade is 90 or above, print `\"Excellent!\"`.\n",
    "2. If the average grade is between 80 and 89, print `\"Very Good\"`.\n",
    "3. If the average grade is between 70 and 79, print `\"Good\"`.\n",
    "4. If the average grade is below 70, print `\"Needs Improvement\"`."
   ]
  },
  {
   "cell_type": "code",
   "execution_count": 32,
   "metadata": {},
   "outputs": [
    {
     "name": "stdout",
     "output_type": "stream",
     "text": [
      "Student: Serena Shum -\n",
      "Good.\n",
      "\n",
      "--\n",
      "Student: Fuyuki Shimoto -\n",
      "Very Good.\n",
      "\n",
      "--\n",
      "Student: Logos -\n",
      "Excellent!\n",
      "\n",
      "--\n",
      "Student: Shylent Renny -\n",
      "Needs Improvement.\n",
      "\n",
      "--\n"
     ]
    }
   ],
   "source": [
    "# Concatenation - Formatted Strings Literals (f-strings) [python_essentials.ipynb]\n",
    "\n",
    "std = [\n",
    "    {\"name\" : \"Serena Shum\", \"age\" : 26, \"grade_lv\" : 2, \"avg_grade\": 70},\n",
    "    {\"name\" : \"Fuyuki Shimoto\", \"age\" : 27, \"grade_lv\" : 3, \"avg_grade\": 80},\n",
    "    {\"name\" : \"Logos\", \"age\" : 24, \"grade_lv\" : 5, \"avg_grade\": 95},\n",
    "    {\"name\" : \"Shylent Renny\", \"age\" : 20, \"grade_lv\" : 1, \"avg_grade\": 60},\n",
    "]\n",
    "\n",
    "for std_loop in std :\n",
    "    print(f\"Student: {std_loop['name']} {\"-\"}\") # can remove {\"-\"}\n",
    "    if std_loop[\"avg_grade\"] >= 90:\n",
    "        print(\"Excellent!\\n\") \n",
    "    elif std_loop[\"avg_grade\"] >= 80 and std_loop[\"avg_grade\"] < 90:\n",
    "        print(\"Very Good.\\n\")\n",
    "    elif std_loop[\"avg_grade\"] >= 70 and std_loop[\"avg_grade\"] < 80:\n",
    "        print(\"Good.\\n\")\n",
    "    else:\n",
    "        print(\"Needs Improvement.\\n\")\n",
    "    print(\"--\")"
   ]
  },
  {
   "cell_type": "markdown",
   "metadata": {},
   "source": [
    "## Exercise 2: Looping Problem\n",
    "\n",
    "Problem: Create a list of 5 numbers.\n",
    "\n",
    "1. Iterate through the list and print each number.\n",
    "2. Calculate the sum of all numbers in the list."
   ]
  },
  {
   "cell_type": "code",
   "execution_count": 11,
   "metadata": {},
   "outputs": [
    {
     "name": "stdout",
     "output_type": "stream",
     "text": [
      "[1, 2, 3, 4, 5]\n",
      "1\n",
      "2\n",
      "3\n",
      "4\n",
      "5\n"
     ]
    }
   ],
   "source": [
    "# 1. Print each number\n",
    "\n",
    "number = [1, 2, 3, 4, 5]\n",
    "print(number)\n",
    "\n",
    "for print_each in number:\n",
    "    print(print_each)"
   ]
  },
  {
   "cell_type": "code",
   "execution_count": null,
   "metadata": {},
   "outputs": [
    {
     "name": "stdout",
     "output_type": "stream",
     "text": [
      "15\n"
     ]
    }
   ],
   "source": [
    "# 2. Calculate the sum\n",
    "\n",
    "total_Sum = 0 # made variable for the sum of numbers\n",
    "\n",
    "for print_each in number:\n",
    "    total_Sum += print_each # adding the value of next number for every iteration \n",
    "\n",
    "print(total_Sum)"
   ]
  },
  {
   "cell_type": "code",
   "execution_count": 43,
   "metadata": {},
   "outputs": [
    {
     "name": "stdout",
     "output_type": "stream",
     "text": [
      "\n",
      "Sum of all numbers: -15\n"
     ]
    }
   ],
   "source": [
    "# or another method\n",
    "\n",
    "total_sum = -sum(number) # to add all negative\n",
    "print(\"\\nSum of all numbers:\", total_sum)\n"
   ]
  }
 ],
 "metadata": {
  "kernelspec": {
   "display_name": "Python 3",
   "language": "python",
   "name": "python3"
  },
  "language_info": {
   "codemirror_mode": {
    "name": "ipython",
    "version": 3
   },
   "file_extension": ".py",
   "mimetype": "text/x-python",
   "name": "python",
   "nbconvert_exporter": "python",
   "pygments_lexer": "ipython3",
   "version": "3.13.0"
  }
 },
 "nbformat": 4,
 "nbformat_minor": 2
}
