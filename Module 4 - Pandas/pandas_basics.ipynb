{
 "cells": [
  {
   "cell_type": "markdown",
   "metadata": {},
   "source": [
    "# **Pandas Basics**\n",
    "\n",
    "### **Install pandas package**"
   ]
  },
  {
   "cell_type": "markdown",
   "metadata": {},
   "source": [
    "%pip for execute all instead single"
   ]
  },
  {
   "cell_type": "code",
   "execution_count": 88,
   "metadata": {},
   "outputs": [
    {
     "name": "stdout",
     "output_type": "stream",
     "text": [
      "Requirement already satisfied: pandas in c:\\users\\user\\appdata\\local\\programs\\python\\python313\\lib\\site-packages (2.2.3)\n",
      "Requirement already satisfied: numpy>=1.26.0 in c:\\users\\user\\appdata\\local\\programs\\python\\python313\\lib\\site-packages (from pandas) (2.1.3)\n",
      "Requirement already satisfied: python-dateutil>=2.8.2 in c:\\users\\user\\appdata\\roaming\\python\\python313\\site-packages (from pandas) (2.9.0.post0)\n",
      "Requirement already satisfied: pytz>=2020.1 in c:\\users\\user\\appdata\\local\\programs\\python\\python313\\lib\\site-packages (from pandas) (2024.2)\n",
      "Requirement already satisfied: tzdata>=2022.7 in c:\\users\\user\\appdata\\local\\programs\\python\\python313\\lib\\site-packages (from pandas) (2024.2)\n",
      "Requirement already satisfied: six>=1.5 in c:\\users\\user\\appdata\\roaming\\python\\python313\\site-packages (from python-dateutil>=2.8.2->pandas) (1.16.0)\n",
      "Note: you may need to restart the kernel to use updated packages.\n"
     ]
    },
    {
     "name": "stderr",
     "output_type": "stream",
     "text": [
      "\n",
      "[notice] A new release of pip is available: 24.2 -> 24.3.1\n",
      "[notice] To update, run: python.exe -m pip install --upgrade pip\n"
     ]
    }
   ],
   "source": [
    "%pip install pandas"
   ]
  },
  {
   "cell_type": "markdown",
   "metadata": {},
   "source": [
    "### **Import pandas**"
   ]
  },
  {
   "cell_type": "code",
   "execution_count": 89,
   "metadata": {},
   "outputs": [],
   "source": [
    "import pandas as pd\n"
   ]
  },
  {
   "cell_type": "markdown",
   "metadata": {},
   "source": [
    "## **DataFrames**\n",
    "A DataFrame is a two-dimensional labeled data structure with columns of potentially \n",
    "different data types, similar to a spreadsheet or SQL table. \n",
    "It provides a powerful and flexible way to manipulate and analyze structured data in Python, \n",
    "offering functionalities for data analysis."
   ]
  },
  {
   "cell_type": "code",
   "execution_count": 90,
   "metadata": {},
   "outputs": [
    {
     "data": {
      "text/html": [
       "<div>\n",
       "<style scoped>\n",
       "    .dataframe tbody tr th:only-of-type {\n",
       "        vertical-align: middle;\n",
       "    }\n",
       "\n",
       "    .dataframe tbody tr th {\n",
       "        vertical-align: top;\n",
       "    }\n",
       "\n",
       "    .dataframe thead th {\n",
       "        text-align: right;\n",
       "    }\n",
       "</style>\n",
       "<table border=\"1\" class=\"dataframe\">\n",
       "  <thead>\n",
       "    <tr style=\"text-align: right;\">\n",
       "      <th></th>\n",
       "    </tr>\n",
       "  </thead>\n",
       "  <tbody>\n",
       "  </tbody>\n",
       "</table>\n",
       "</div>"
      ],
      "text/plain": [
       "Empty DataFrame\n",
       "Columns: []\n",
       "Index: []"
      ]
     },
     "execution_count": 90,
     "metadata": {},
     "output_type": "execute_result"
    }
   ],
   "source": [
    "# Empty DataFrame\n",
    "df = pd.DataFrame()\n",
    "df"
   ]
  },
  {
   "cell_type": "code",
   "execution_count": 91,
   "metadata": {},
   "outputs": [
    {
     "data": {
      "text/html": [
       "<div>\n",
       "<style scoped>\n",
       "    .dataframe tbody tr th:only-of-type {\n",
       "        vertical-align: middle;\n",
       "    }\n",
       "\n",
       "    .dataframe tbody tr th {\n",
       "        vertical-align: top;\n",
       "    }\n",
       "\n",
       "    .dataframe thead th {\n",
       "        text-align: right;\n",
       "    }\n",
       "</style>\n",
       "<table border=\"1\" class=\"dataframe\">\n",
       "  <thead>\n",
       "    <tr style=\"text-align: right;\">\n",
       "      <th></th>\n",
       "      <th>Name</th>\n",
       "      <th>Age</th>\n",
       "    </tr>\n",
       "  </thead>\n",
       "  <tbody>\n",
       "    <tr>\n",
       "      <th>0</th>\n",
       "      <td>Anam</td>\n",
       "      <td>18</td>\n",
       "    </tr>\n",
       "    <tr>\n",
       "      <th>1</th>\n",
       "      <td>Jericho</td>\n",
       "      <td>18</td>\n",
       "    </tr>\n",
       "    <tr>\n",
       "      <th>2</th>\n",
       "      <td>Justin</td>\n",
       "      <td>18</td>\n",
       "    </tr>\n",
       "  </tbody>\n",
       "</table>\n",
       "</div>"
      ],
      "text/plain": [
       "      Name  Age\n",
       "0     Anam   18\n",
       "1  Jericho   18\n",
       "2   Justin   18"
      ]
     },
     "execution_count": 91,
     "metadata": {},
     "output_type": "execute_result"
    }
   ],
   "source": [
    "# Create a DataFrame from a list of lists\n",
    "row_data = [[\"Anam\", 18], [\"Jericho\", 18], [\"Justin\", 18]]\n",
    "column = [\"Name\", \"Age\"]\n",
    "df = pd.DataFrame(row_data, columns=column)\n",
    "df"
   ]
  },
  {
   "cell_type": "code",
   "execution_count": 92,
   "metadata": {},
   "outputs": [
    {
     "data": {
      "text/html": [
       "<div>\n",
       "<style scoped>\n",
       "    .dataframe tbody tr th:only-of-type {\n",
       "        vertical-align: middle;\n",
       "    }\n",
       "\n",
       "    .dataframe tbody tr th {\n",
       "        vertical-align: top;\n",
       "    }\n",
       "\n",
       "    .dataframe thead th {\n",
       "        text-align: right;\n",
       "    }\n",
       "</style>\n",
       "<table border=\"1\" class=\"dataframe\">\n",
       "  <thead>\n",
       "    <tr style=\"text-align: right;\">\n",
       "      <th></th>\n",
       "      <th>Name</th>\n",
       "      <th>Age</th>\n",
       "    </tr>\n",
       "  </thead>\n",
       "  <tbody>\n",
       "    <tr>\n",
       "      <th>0</th>\n",
       "      <td>Anam</td>\n",
       "      <td>18</td>\n",
       "    </tr>\n",
       "    <tr>\n",
       "      <th>1</th>\n",
       "      <td>Jericho</td>\n",
       "      <td>18</td>\n",
       "    </tr>\n",
       "    <tr>\n",
       "      <th>2</th>\n",
       "      <td>Justin</td>\n",
       "      <td>18</td>\n",
       "    </tr>\n",
       "  </tbody>\n",
       "</table>\n",
       "</div>"
      ],
      "text/plain": [
       "      Name  Age\n",
       "0     Anam   18\n",
       "1  Jericho   18\n",
       "2   Justin   18"
      ]
     },
     "execution_count": 92,
     "metadata": {},
     "output_type": "execute_result"
    }
   ],
   "source": [
    "# Create a dataframe using list of dictionaries\n",
    "data = [{\"Name\": \"Anam\", \"Age\": 18}, \n",
    " {\"Name\": \"Jericho\", \"Age\": 18}, \n",
    " {\"Name\": \"Justin\", \"Age\": 18}]\n",
    "df = pd.DataFrame(data)\n",
    "df"
   ]
  },
  {
   "cell_type": "code",
   "execution_count": 93,
   "metadata": {},
   "outputs": [
    {
     "data": {
      "text/html": [
       "<div>\n",
       "<style scoped>\n",
       "    .dataframe tbody tr th:only-of-type {\n",
       "        vertical-align: middle;\n",
       "    }\n",
       "\n",
       "    .dataframe tbody tr th {\n",
       "        vertical-align: top;\n",
       "    }\n",
       "\n",
       "    .dataframe thead th {\n",
       "        text-align: right;\n",
       "    }\n",
       "</style>\n",
       "<table border=\"1\" class=\"dataframe\">\n",
       "  <thead>\n",
       "    <tr style=\"text-align: right;\">\n",
       "      <th></th>\n",
       "      <th>Name</th>\n",
       "      <th>Age</th>\n",
       "    </tr>\n",
       "  </thead>\n",
       "  <tbody>\n",
       "    <tr>\n",
       "      <th>0</th>\n",
       "      <td>Anam</td>\n",
       "      <td>18</td>\n",
       "    </tr>\n",
       "    <tr>\n",
       "      <th>1</th>\n",
       "      <td>Jericho</td>\n",
       "      <td>18</td>\n",
       "    </tr>\n",
       "    <tr>\n",
       "      <th>2</th>\n",
       "      <td>Justin</td>\n",
       "      <td>18</td>\n",
       "    </tr>\n",
       "  </tbody>\n",
       "</table>\n",
       "</div>"
      ],
      "text/plain": [
       "      Name  Age\n",
       "0     Anam   18\n",
       "1  Jericho   18\n",
       "2   Justin   18"
      ]
     },
     "execution_count": 93,
     "metadata": {},
     "output_type": "execute_result"
    }
   ],
   "source": [
    "# Create a dictionary of lists\n",
    "data = {\n",
    "   \"Name\": [\"Anam\", \"Jericho\", \"Justin\"], \n",
    "   \"Age\" : [18, 18, 18]\n",
    "}\n",
    "df = pd.DataFrame(data)\n",
    "df"
   ]
  },
  {
   "cell_type": "code",
   "execution_count": 94,
   "metadata": {},
   "outputs": [
    {
     "name": "stdout",
     "output_type": "stream",
     "text": [
      "<class 'pandas.core.frame.DataFrame'>\n"
     ]
    }
   ],
   "source": [
    "print(type(df))"
   ]
  },
  {
   "cell_type": "markdown",
   "metadata": {},
   "source": [
    "## **Series**\n",
    "\n",
    "A pandas Series is a one-dimensional labeled array capable of \n",
    "holding data of any type (integer, string, float, etc.). \n",
    "It's similar to a one-column table or an array with associated labels, \n",
    "providing powerful indexing and manipulation capabilities in Python."
   ]
  },
  {
   "cell_type": "code",
   "execution_count": 95,
   "metadata": {},
   "outputs": [
    {
     "data": {
      "text/plain": [
       "0    1\n",
       "1    2\n",
       "2    3\n",
       "3    4\n",
       "4    5\n",
       "dtype: int64"
      ]
     },
     "execution_count": 95,
     "metadata": {},
     "output_type": "execute_result"
    }
   ],
   "source": [
    "series = pd.Series([1, 2, 3, 4, 5])\n",
    "series"
   ]
  },
  {
   "cell_type": "code",
   "execution_count": 96,
   "metadata": {},
   "outputs": [
    {
     "name": "stdout",
     "output_type": "stream",
     "text": [
      "<class 'pandas.core.series.Series'>\n"
     ]
    }
   ],
   "source": [
    "print(type(series))"
   ]
  },
  {
   "cell_type": "markdown",
   "metadata": {},
   "source": [
    "### **Pandas Data Types**\n",
    "\n",
    "Numeric:\n",
    "- Integer (int64): Represents whole numbers (e.g., 10, -5). \n",
    "    This is the default integer type in pandas. (64 bit integer)\n",
    "- Float (float64): Represents numbers with decimals (e.g., 3.14, -12.5).\n",
    "- Boolean (bool): Represents logical True or False values.\n",
    "- Object: This is a versatile but less efficient type that can store various data types \n",
    "like strings, lists, or custom objects. \n",
    "    Pandas uses this type when it cannot infer a more specific data type."
   ]
  },
  {
   "cell_type": "code",
   "execution_count": 97,
   "metadata": {},
   "outputs": [
    {
     "data": {
      "text/plain": [
       "0    1\n",
       "1    2\n",
       "2    3\n",
       "3    4\n",
       "4    5\n",
       "dtype: int64"
      ]
     },
     "execution_count": 97,
     "metadata": {},
     "output_type": "execute_result"
    }
   ],
   "source": [
    "# Integer (int64)\n",
    "int_series = pd.Series([1, 2, 3, 4, 5])\n",
    "int_series"
   ]
  },
  {
   "cell_type": "code",
   "execution_count": 98,
   "metadata": {},
   "outputs": [
    {
     "data": {
      "text/plain": [
       "0     4.245\n",
       "1    76.563\n",
       "dtype: float64"
      ]
     },
     "execution_count": 98,
     "metadata": {},
     "output_type": "execute_result"
    }
   ],
   "source": [
    "float_series = pd.Series([4.245, 76.563])\n",
    "float_series"
   ]
  },
  {
   "cell_type": "code",
   "execution_count": 99,
   "metadata": {},
   "outputs": [
    {
     "data": {
      "text/plain": [
       "0     True\n",
       "1    False\n",
       "2     True\n",
       "3    False\n",
       "dtype: bool"
      ]
     },
     "execution_count": 99,
     "metadata": {},
     "output_type": "execute_result"
    }
   ],
   "source": [
    "# Boolean (bool): True = 1, False = 0\n",
    "boolean_series = pd.Series([True, False, True, False])\n",
    "boolean_series"
   ]
  },
  {
   "cell_type": "code",
   "execution_count": 100,
   "metadata": {},
   "outputs": [
    {
     "data": {
      "text/plain": [
       "0       30\n",
       "1     3.14\n",
       "2     True\n",
       "3    False\n",
       "4     Anna\n",
       "dtype: object"
      ]
     },
     "execution_count": 100,
     "metadata": {},
     "output_type": "execute_result"
    }
   ],
   "source": [
    "# Object (Mixed Data Types)\n",
    "object_series = pd.Series([30, 3.14, True, False, \"Anna\"])\n",
    "object_series"
   ]
  },
  {
   "cell_type": "markdown",
   "metadata": {},
   "source": [
    "Specialized Data Types:\n",
    "- Datetime (datetime64[ns]): Represents dates and times with nanosecond precision. \n",
    "    Useful for time-series data analysis.\n",
    "- Timedelta (timedelta64[ns]): Represents durations between timestamps.\n",
    "- Categorical: Represents categorical data with predefined categories. \n",
    "    Efficient for storing limited sets of categories.\n",
    "- Sparse: Represents sparse data with many missing values. \n",
    "    Stores data efficiently by only keeping non-zero values."
   ]
  },
  {
   "cell_type": "code",
   "execution_count": 101,
   "metadata": {},
   "outputs": [
    {
     "data": {
      "text/plain": [
       "0   2024-11-05 02:00:00\n",
       "1   2024-11-05 05:00:00\n",
       "2   2024-11-05 05:30:00\n",
       "3   2024-11-05 05:30:00\n",
       "4   2024-11-05 05:30:00\n",
       "dtype: datetime64[ns]"
      ]
     },
     "execution_count": 101,
     "metadata": {},
     "output_type": "execute_result"
    }
   ],
   "source": [
    "# Datetime (datetime64[ns])\n",
    "datetime_series = pd.Series([\n",
    "        pd.to_datetime(\"2024-11-05 02:00:00\"),\n",
    "        pd.to_datetime(\"2024-11-05 05:00:00\"),\n",
    "        pd.to_datetime(\"2024-11-05 05:30:00\"),\n",
    "        pd.to_datetime(\"05-11-2024 05:30:00\", format=\"%d-%m-%Y %H:%M:%S\"),\n",
    "        pd.to_datetime(\"05-2024-11 05:30:00\", format=\"%d-%Y-%m %H:%M:%S\"),\n",
    "    ])\n",
    "datetime_series"
   ]
  },
  {
   "cell_type": "code",
   "execution_count": 102,
   "metadata": {},
   "outputs": [
    {
     "data": {
      "text/plain": [
       "0   8 days 03:15:00\n",
       "1   4 days 03:15:00\n",
       "2   1 days 03:15:00\n",
       "dtype: timedelta64[ns]"
      ]
     },
     "execution_count": 102,
     "metadata": {},
     "output_type": "execute_result"
    }
   ],
   "source": [
    "# Timedelta - duration between timestamps\n",
    "timedelta_series = pd.Series([\n",
    "    pd.Timedelta(days=8, hours=3, minutes=15),\n",
    "    pd.Timedelta(days=4, hours=3, minutes=15),\n",
    "    pd.Timedelta(days=1, hours=3, minutes=15)])\n",
    "timedelta_series"
   ]
  },
  {
   "cell_type": "code",
   "execution_count": 103,
   "metadata": {},
   "outputs": [
    {
     "data": {
      "text/plain": [
       "0     Marketing\n",
       "1     Marketing\n",
       "2         Sales\n",
       "3    Operations\n",
       "4            IT\n",
       "5       Finance\n",
       "6            HR\n",
       "dtype: category\n",
       "Categories (6, object): ['Finance', 'HR', 'IT', 'Marketing', 'Operations', 'Sales']"
      ]
     },
     "execution_count": 103,
     "metadata": {},
     "output_type": "execute_result"
    }
   ],
   "source": [
    "# Categorical\n",
    "categorial_series = pd.Series(\n",
    "    pd.Categorical([\"Marketing\", \"Marketing\", \"Sales\", \"Operations\", \"IT\", \"Finance\", \"HR\"])\n",
    "    ) # Double \"Marketing\" will be counted as single in Categories\n",
    "categorial_series"
   ]
  },
  {
   "cell_type": "code",
   "execution_count": 104,
   "metadata": {},
   "outputs": [
    {
     "data": {
      "text/plain": [
       "0     30\n",
       "1     31\n",
       "2     32\n",
       "3    NaN\n",
       "4     29\n",
       "5     42\n",
       "6    NaN\n",
       "dtype: Sparse[object, nan]"
      ]
     },
     "execution_count": 104,
     "metadata": {},
     "output_type": "execute_result"
    }
   ],
   "source": [
    "# Sparse - missing/null values inside of a series (allowed)\n",
    "sparse_series = pd.Series(\n",
    "    pd.arrays.SparseArray([30, 31, 32, pd.NA, 29, 42, pd.NA])\n",
    ")\n",
    "sparse_series\n",
    "# NaN - Not a Number"
   ]
  },
  {
   "cell_type": "markdown",
   "metadata": {},
   "source": [
    "### **Changing Data Types**"
   ]
  },
  {
   "cell_type": "code",
   "execution_count": 105,
   "metadata": {},
   "outputs": [
    {
     "data": {
      "text/html": [
       "<div>\n",
       "<style scoped>\n",
       "    .dataframe tbody tr th:only-of-type {\n",
       "        vertical-align: middle;\n",
       "    }\n",
       "\n",
       "    .dataframe tbody tr th {\n",
       "        vertical-align: top;\n",
       "    }\n",
       "\n",
       "    .dataframe thead th {\n",
       "        text-align: right;\n",
       "    }\n",
       "</style>\n",
       "<table border=\"1\" class=\"dataframe\">\n",
       "  <thead>\n",
       "    <tr style=\"text-align: right;\">\n",
       "      <th></th>\n",
       "      <th>Name</th>\n",
       "      <th>Age</th>\n",
       "    </tr>\n",
       "  </thead>\n",
       "  <tbody>\n",
       "    <tr>\n",
       "      <th>0</th>\n",
       "      <td>Anam</td>\n",
       "      <td>18</td>\n",
       "    </tr>\n",
       "    <tr>\n",
       "      <th>1</th>\n",
       "      <td>Jericho</td>\n",
       "      <td>18</td>\n",
       "    </tr>\n",
       "    <tr>\n",
       "      <th>2</th>\n",
       "      <td>Justin</td>\n",
       "      <td>18</td>\n",
       "    </tr>\n",
       "  </tbody>\n",
       "</table>\n",
       "</div>"
      ],
      "text/plain": [
       "      Name  Age\n",
       "0     Anam   18\n",
       "1  Jericho   18\n",
       "2   Justin   18"
      ]
     },
     "execution_count": 105,
     "metadata": {},
     "output_type": "execute_result"
    }
   ],
   "source": [
    "# the differences between df & print(df)\n",
    "df"
   ]
  },
  {
   "cell_type": "code",
   "execution_count": 106,
   "metadata": {},
   "outputs": [
    {
     "name": "stdout",
     "output_type": "stream",
     "text": [
      "      Name  Age\n",
      "0     Anam   18\n",
      "1  Jericho   18\n",
      "2   Justin   18\n"
     ]
    }
   ],
   "source": [
    "print(df)"
   ]
  },
  {
   "cell_type": "code",
   "execution_count": 107,
   "metadata": {},
   "outputs": [
    {
     "data": {
      "text/plain": [
       "dtype('int64')"
      ]
     },
     "execution_count": 107,
     "metadata": {},
     "output_type": "execute_result"
    }
   ],
   "source": [
    "# Step 1: Check the datatype\n",
    "int_series.dtype"
   ]
  },
  {
   "cell_type": "code",
   "execution_count": 108,
   "metadata": {},
   "outputs": [
    {
     "data": {
      "text/plain": [
       "dtype('float64')"
      ]
     },
     "execution_count": 108,
     "metadata": {},
     "output_type": "execute_result"
    }
   ],
   "source": [
    "# Step 2: Change the DataType\n",
    "# It will apply the new data type on a shallow copy of the variable.\n",
    "# It doesn't affect the original variable.\n",
    "# As type, change the ori to other type\n",
    "float_series = int_series.astype('float64')\n",
    "float_series.dtype"
   ]
  },
  {
   "cell_type": "markdown",
   "metadata": {},
   "source": [
    "Q: Difference in property and method when calling property, it wont use parenthesis but on method instead\n",
    "\n",
    "Properties\n",
    "    Definition: Properties represent attributes or characteristics of an object.\n",
    "    Usage: You access properties without parentheses.\n",
    "    Example:\n",
    "```\n",
    "class Person:\n",
    "    def __init__(self, name):\n",
    "        self.name = name\n",
    "\n",
    "person = Person(\"John\")\n",
    "print(person.name)  # Accessing the property 'name'\n",
    "```\n",
    "In this example, (name) is a property of the (Person) class.\n",
    "Methods\n",
    "\n",
    "    Definition: Methods are functions that belong to an object and can perform actions or computations.\n",
    "\n",
    "    Usage: You call methods with parentheses.\n",
    "\n",
    "    Example:\n",
    "```\n",
    "class Person:\n",
    "    def __init__(self, name):\n",
    "        self.name = name\n",
    "\n",
    "    def greet(self):\n",
    "        return f\"Hello, my name is {self.name}\"\n",
    "\n",
    "person = Person(\"John\")\n",
    "print(person.greet())  # Calling the method 'greet()'\n",
    "```\n",
    "In this example, greet is a method of the Person class, and it uses parentheses when called.\n",
    "Key Differences\n",
    "\n",
    "    - Properties are accessed like attributes and do not use parentheses.\n",
    "    - Methods are functions that perform actions and must be called with parentheses."
   ]
  },
  {
   "cell_type": "code",
   "execution_count": 109,
   "metadata": {},
   "outputs": [
    {
     "data": {
      "text/plain": [
       "0    1.0\n",
       "1    2.0\n",
       "2    3.0\n",
       "3    4.0\n",
       "4    5.0\n",
       "dtype: string"
      ]
     },
     "execution_count": 109,
     "metadata": {},
     "output_type": "execute_result"
    }
   ],
   "source": [
    "string_series = float_series.astype('string')\n",
    "string_series"
   ]
  },
  {
   "cell_type": "code",
   "execution_count": 110,
   "metadata": {},
   "outputs": [
    {
     "data": {
      "text/plain": [
       "0    1.0\n",
       "1    2.0\n",
       "2    3.0\n",
       "3    4.0\n",
       "4    5.0\n",
       "dtype: float64"
      ]
     },
     "execution_count": 110,
     "metadata": {},
     "output_type": "execute_result"
    }
   ],
   "source": [
    "another_float_series = string_series.astype('float64')\n",
    "another_float_series"
   ]
  },
  {
   "cell_type": "code",
   "execution_count": 111,
   "metadata": {},
   "outputs": [
    {
     "data": {
      "text/plain": [
       "0    1\n",
       "1    2\n",
       "2    3\n",
       "3    4\n",
       "4    5\n",
       "dtype: int64"
      ]
     },
     "execution_count": 111,
     "metadata": {},
     "output_type": "execute_result"
    }
   ],
   "source": [
    "another_integer_series = another_float_series.astype('int64')\n",
    "another_integer_series"
   ]
  },
  {
   "cell_type": "code",
   "execution_count": 112,
   "metadata": {},
   "outputs": [
    {
     "data": {
      "text/plain": [
       "0    3\n",
       "1   -3\n",
       "dtype: int64"
      ]
     },
     "execution_count": 112,
     "metadata": {},
     "output_type": "execute_result"
    }
   ],
   "source": [
    "# This will remove decimal points\n",
    "float_series = pd.Series([3.14, -3.14])\n",
    "integer_series = float_series.astype('int64')\n",
    "integer_series"
   ]
  },
  {
   "cell_type": "markdown",
   "metadata": {},
   "source": [
    "**Example: Sales Data Analysis**\n",
    "\n",
    "You have a dataset of sales transactions that includes the product name, quantity sold, and sale price. \n",
    "You want to analyze the data to find the total revenue per product."
   ]
  },
  {
   "cell_type": "code",
   "execution_count": 113,
   "metadata": {},
   "outputs": [
    {
     "data": {
      "text/html": [
       "<div>\n",
       "<style scoped>\n",
       "    .dataframe tbody tr th:only-of-type {\n",
       "        vertical-align: middle;\n",
       "    }\n",
       "\n",
       "    .dataframe tbody tr th {\n",
       "        vertical-align: top;\n",
       "    }\n",
       "\n",
       "    .dataframe thead th {\n",
       "        text-align: right;\n",
       "    }\n",
       "</style>\n",
       "<table border=\"1\" class=\"dataframe\">\n",
       "  <thead>\n",
       "    <tr style=\"text-align: right;\">\n",
       "      <th></th>\n",
       "      <th>Product Name</th>\n",
       "      <th>Type</th>\n",
       "      <th>Stock</th>\n",
       "      <th>Quantity Sold</th>\n",
       "      <th>Cost of Goods Sold</th>\n",
       "      <th>Sale Price</th>\n",
       "      <th>Rating</th>\n",
       "    </tr>\n",
       "  </thead>\n",
       "  <tbody>\n",
       "    <tr>\n",
       "      <th>0</th>\n",
       "      <td>Iced Tea</td>\n",
       "      <td>Cold</td>\n",
       "      <td>15</td>\n",
       "      <td>6</td>\n",
       "      <td>7</td>\n",
       "      <td>13</td>\n",
       "      <td>1</td>\n",
       "    </tr>\n",
       "    <tr>\n",
       "      <th>1</th>\n",
       "      <td>Hot Chocolate</td>\n",
       "      <td>Hot</td>\n",
       "      <td>15</td>\n",
       "      <td>9</td>\n",
       "      <td>10</td>\n",
       "      <td>20</td>\n",
       "      <td>3</td>\n",
       "    </tr>\n",
       "    <tr>\n",
       "      <th>2</th>\n",
       "      <td>Lemonade</td>\n",
       "      <td>Cold</td>\n",
       "      <td>15</td>\n",
       "      <td>13</td>\n",
       "      <td>6</td>\n",
       "      <td>11</td>\n",
       "      <td>5</td>\n",
       "    </tr>\n",
       "    <tr>\n",
       "      <th>3</th>\n",
       "      <td>Coffee</td>\n",
       "      <td>Hot</td>\n",
       "      <td>15</td>\n",
       "      <td>11</td>\n",
       "      <td>8</td>\n",
       "      <td>15</td>\n",
       "      <td>4</td>\n",
       "    </tr>\n",
       "    <tr>\n",
       "      <th>4</th>\n",
       "      <td>Milkshake</td>\n",
       "      <td>Cold</td>\n",
       "      <td>15</td>\n",
       "      <td>8</td>\n",
       "      <td>9</td>\n",
       "      <td>19</td>\n",
       "      <td>3</td>\n",
       "    </tr>\n",
       "    <tr>\n",
       "      <th>5</th>\n",
       "      <td>Tea</td>\n",
       "      <td>Hot</td>\n",
       "      <td>15</td>\n",
       "      <td>6</td>\n",
       "      <td>7</td>\n",
       "      <td>14</td>\n",
       "      <td>2</td>\n",
       "    </tr>\n",
       "    <tr>\n",
       "      <th>6</th>\n",
       "      <td>Smoothie</td>\n",
       "      <td>Cold</td>\n",
       "      <td>15</td>\n",
       "      <td>14</td>\n",
       "      <td>10</td>\n",
       "      <td>17</td>\n",
       "      <td>5</td>\n",
       "    </tr>\n",
       "    <tr>\n",
       "      <th>7</th>\n",
       "      <td>Soda</td>\n",
       "      <td>Hot</td>\n",
       "      <td>15</td>\n",
       "      <td>10</td>\n",
       "      <td>11</td>\n",
       "      <td>18</td>\n",
       "      <td>3</td>\n",
       "    </tr>\n",
       "    <tr>\n",
       "      <th>8</th>\n",
       "      <td>Protein Shake</td>\n",
       "      <td>Cold</td>\n",
       "      <td>15</td>\n",
       "      <td>8</td>\n",
       "      <td>8</td>\n",
       "      <td>20</td>\n",
       "      <td>3</td>\n",
       "    </tr>\n",
       "    <tr>\n",
       "      <th>9</th>\n",
       "      <td>Matcha Latte</td>\n",
       "      <td>Hot</td>\n",
       "      <td>15</td>\n",
       "      <td>10</td>\n",
       "      <td>9</td>\n",
       "      <td>12</td>\n",
       "      <td>3</td>\n",
       "    </tr>\n",
       "  </tbody>\n",
       "</table>\n",
       "</div>"
      ],
      "text/plain": [
       "    Product Name  Type  Stock  Quantity Sold  Cost of Goods Sold  Sale Price  \\\n",
       "0       Iced Tea  Cold     15              6                   7          13   \n",
       "1  Hot Chocolate   Hot     15              9                  10          20   \n",
       "2       Lemonade  Cold     15             13                   6          11   \n",
       "3         Coffee   Hot     15             11                   8          15   \n",
       "4      Milkshake  Cold     15              8                   9          19   \n",
       "5            Tea   Hot     15              6                   7          14   \n",
       "6       Smoothie  Cold     15             14                  10          17   \n",
       "7           Soda   Hot     15             10                  11          18   \n",
       "8  Protein Shake  Cold     15              8                   8          20   \n",
       "9   Matcha Latte   Hot     15             10                   9          12   \n",
       "\n",
       "   Rating  \n",
       "0       1  \n",
       "1       3  \n",
       "2       5  \n",
       "3       4  \n",
       "4       3  \n",
       "5       2  \n",
       "6       5  \n",
       "7       3  \n",
       "8       3  \n",
       "9       3  "
      ]
     },
     "execution_count": 113,
     "metadata": {},
     "output_type": "execute_result"
    }
   ],
   "source": [
    "# Step 1 : DataFrame using Dictionary of List\n",
    "data = {\n",
    "    'Product Name':['Iced Tea', 'Hot Chocolate', 'Lemonade', 'Coffee', 'Milkshake', 'Tea', 'Smoothie', 'Soda', 'Protein Shake', 'Matcha Latte'],\n",
    "    'Type': ['Cold', 'Hot', 'Cold', 'Hot', 'Cold', 'Hot', 'Cold', 'Hot', 'Cold', 'Hot'],\n",
    "    'Stock': [15, 15, 15, 15, 15, 15, 15, 15, 15, 15],\n",
    "    'Quantity Sold':[6, 9, 13, 11, 8, 6, 14, 10, 8, 10],\n",
    "    'Cost of Goods Sold':[7, 10, 6, 8, 9, 7, 10, 11, 8, 9],\n",
    "    'Sale Price':[13, 20, 11, 15, 19, 14, 17, 18, 20, 12],\n",
    "    'Rating': [1, 3, 5, 4, 3, 2, 5, 3, 3, 3]\n",
    "}\n",
    "sales_df = pd.DataFrame(data)\n",
    "sales_df"
   ]
  },
  {
   "cell_type": "code",
   "execution_count": 114,
   "metadata": {},
   "outputs": [
    {
     "data": {
      "text/plain": [
       "0     6\n",
       "1     9\n",
       "2    13\n",
       "3    11\n",
       "4     8\n",
       "5     6\n",
       "6    14\n",
       "7    10\n",
       "8     8\n",
       "9    10\n",
       "Name: Quantity Sold, dtype: int64"
      ]
     },
     "execution_count": 114,
     "metadata": {},
     "output_type": "execute_result"
    }
   ],
   "source": [
    "# Step 2: Access the columns (in Series)\n",
    "sales_df[\"Quantity Sold\"]"
   ]
  },
  {
   "cell_type": "code",
   "execution_count": 115,
   "metadata": {},
   "outputs": [
    {
     "data": {
      "text/html": [
       "<div>\n",
       "<style scoped>\n",
       "    .dataframe tbody tr th:only-of-type {\n",
       "        vertical-align: middle;\n",
       "    }\n",
       "\n",
       "    .dataframe tbody tr th {\n",
       "        vertical-align: top;\n",
       "    }\n",
       "\n",
       "    .dataframe thead th {\n",
       "        text-align: right;\n",
       "    }\n",
       "</style>\n",
       "<table border=\"1\" class=\"dataframe\">\n",
       "  <thead>\n",
       "    <tr style=\"text-align: right;\">\n",
       "      <th></th>\n",
       "      <th>Product Name</th>\n",
       "      <th>Type</th>\n",
       "      <th>Stock</th>\n",
       "      <th>Quantity Sold</th>\n",
       "      <th>Cost of Goods Sold</th>\n",
       "      <th>Sale Price</th>\n",
       "      <th>Rating</th>\n",
       "      <th>Total Revenue</th>\n",
       "    </tr>\n",
       "  </thead>\n",
       "  <tbody>\n",
       "    <tr>\n",
       "      <th>0</th>\n",
       "      <td>Iced Tea</td>\n",
       "      <td>Cold</td>\n",
       "      <td>15</td>\n",
       "      <td>6</td>\n",
       "      <td>7</td>\n",
       "      <td>13</td>\n",
       "      <td>1</td>\n",
       "      <td>78</td>\n",
       "    </tr>\n",
       "    <tr>\n",
       "      <th>1</th>\n",
       "      <td>Hot Chocolate</td>\n",
       "      <td>Hot</td>\n",
       "      <td>15</td>\n",
       "      <td>9</td>\n",
       "      <td>10</td>\n",
       "      <td>20</td>\n",
       "      <td>3</td>\n",
       "      <td>180</td>\n",
       "    </tr>\n",
       "    <tr>\n",
       "      <th>2</th>\n",
       "      <td>Lemonade</td>\n",
       "      <td>Cold</td>\n",
       "      <td>15</td>\n",
       "      <td>13</td>\n",
       "      <td>6</td>\n",
       "      <td>11</td>\n",
       "      <td>5</td>\n",
       "      <td>143</td>\n",
       "    </tr>\n",
       "    <tr>\n",
       "      <th>3</th>\n",
       "      <td>Coffee</td>\n",
       "      <td>Hot</td>\n",
       "      <td>15</td>\n",
       "      <td>11</td>\n",
       "      <td>8</td>\n",
       "      <td>15</td>\n",
       "      <td>4</td>\n",
       "      <td>165</td>\n",
       "    </tr>\n",
       "    <tr>\n",
       "      <th>4</th>\n",
       "      <td>Milkshake</td>\n",
       "      <td>Cold</td>\n",
       "      <td>15</td>\n",
       "      <td>8</td>\n",
       "      <td>9</td>\n",
       "      <td>19</td>\n",
       "      <td>3</td>\n",
       "      <td>152</td>\n",
       "    </tr>\n",
       "    <tr>\n",
       "      <th>5</th>\n",
       "      <td>Tea</td>\n",
       "      <td>Hot</td>\n",
       "      <td>15</td>\n",
       "      <td>6</td>\n",
       "      <td>7</td>\n",
       "      <td>14</td>\n",
       "      <td>2</td>\n",
       "      <td>84</td>\n",
       "    </tr>\n",
       "    <tr>\n",
       "      <th>6</th>\n",
       "      <td>Smoothie</td>\n",
       "      <td>Cold</td>\n",
       "      <td>15</td>\n",
       "      <td>14</td>\n",
       "      <td>10</td>\n",
       "      <td>17</td>\n",
       "      <td>5</td>\n",
       "      <td>238</td>\n",
       "    </tr>\n",
       "    <tr>\n",
       "      <th>7</th>\n",
       "      <td>Soda</td>\n",
       "      <td>Hot</td>\n",
       "      <td>15</td>\n",
       "      <td>10</td>\n",
       "      <td>11</td>\n",
       "      <td>18</td>\n",
       "      <td>3</td>\n",
       "      <td>180</td>\n",
       "    </tr>\n",
       "    <tr>\n",
       "      <th>8</th>\n",
       "      <td>Protein Shake</td>\n",
       "      <td>Cold</td>\n",
       "      <td>15</td>\n",
       "      <td>8</td>\n",
       "      <td>8</td>\n",
       "      <td>20</td>\n",
       "      <td>3</td>\n",
       "      <td>160</td>\n",
       "    </tr>\n",
       "    <tr>\n",
       "      <th>9</th>\n",
       "      <td>Matcha Latte</td>\n",
       "      <td>Hot</td>\n",
       "      <td>15</td>\n",
       "      <td>10</td>\n",
       "      <td>9</td>\n",
       "      <td>12</td>\n",
       "      <td>3</td>\n",
       "      <td>120</td>\n",
       "    </tr>\n",
       "  </tbody>\n",
       "</table>\n",
       "</div>"
      ],
      "text/plain": [
       "    Product Name  Type  Stock  Quantity Sold  Cost of Goods Sold  Sale Price  \\\n",
       "0       Iced Tea  Cold     15              6                   7          13   \n",
       "1  Hot Chocolate   Hot     15              9                  10          20   \n",
       "2       Lemonade  Cold     15             13                   6          11   \n",
       "3         Coffee   Hot     15             11                   8          15   \n",
       "4      Milkshake  Cold     15              8                   9          19   \n",
       "5            Tea   Hot     15              6                   7          14   \n",
       "6       Smoothie  Cold     15             14                  10          17   \n",
       "7           Soda   Hot     15             10                  11          18   \n",
       "8  Protein Shake  Cold     15              8                   8          20   \n",
       "9   Matcha Latte   Hot     15             10                   9          12   \n",
       "\n",
       "   Rating  Total Revenue  \n",
       "0       1             78  \n",
       "1       3            180  \n",
       "2       5            143  \n",
       "3       4            165  \n",
       "4       3            152  \n",
       "5       2             84  \n",
       "6       5            238  \n",
       "7       3            180  \n",
       "8       3            160  \n",
       "9       3            120  "
      ]
     },
     "execution_count": 115,
     "metadata": {},
     "output_type": "execute_result"
    }
   ],
   "source": [
    "# Step 3: Calculate the Total Revenue\n",
    "sales_df[\"Total Revenue\"] = sales_df[\"Quantity Sold\"] * sales_df[\"Sale Price\"]\n",
    "sales_df"
   ]
  },
  {
   "cell_type": "code",
   "execution_count": 119,
   "metadata": {},
   "outputs": [],
   "source": [
    "# (sale price - cost of goods) * quantity sold\n",
    "# sales_df[\"Gross Profit\"] = (sales_df[\"Sale Price\"] - sales_df[\"Cost of Goods Sold\"]) * sales_df[\"Quantity Sold\"]\n",
    "# sales_df"
   ]
  },
  {
   "cell_type": "code",
   "execution_count": 120,
   "metadata": {},
   "outputs": [
    {
     "data": {
      "text/html": [
       "<div>\n",
       "<style scoped>\n",
       "    .dataframe tbody tr th:only-of-type {\n",
       "        vertical-align: middle;\n",
       "    }\n",
       "\n",
       "    .dataframe tbody tr th {\n",
       "        vertical-align: top;\n",
       "    }\n",
       "\n",
       "    .dataframe thead th {\n",
       "        text-align: right;\n",
       "    }\n",
       "</style>\n",
       "<table border=\"1\" class=\"dataframe\">\n",
       "  <thead>\n",
       "    <tr style=\"text-align: right;\">\n",
       "      <th></th>\n",
       "      <th>Product Name</th>\n",
       "      <th>Type</th>\n",
       "      <th>Stock</th>\n",
       "      <th>Quantity Sold</th>\n",
       "      <th>Cost of Goods Sold</th>\n",
       "      <th>Sale Price</th>\n",
       "      <th>Rating</th>\n",
       "      <th>Total Revenue</th>\n",
       "      <th>Gross Profit</th>\n",
       "    </tr>\n",
       "  </thead>\n",
       "  <tbody>\n",
       "    <tr>\n",
       "      <th>0</th>\n",
       "      <td>Iced Tea</td>\n",
       "      <td>Cold</td>\n",
       "      <td>15</td>\n",
       "      <td>6</td>\n",
       "      <td>7</td>\n",
       "      <td>13</td>\n",
       "      <td>1</td>\n",
       "      <td>78</td>\n",
       "      <td>36</td>\n",
       "    </tr>\n",
       "    <tr>\n",
       "      <th>1</th>\n",
       "      <td>Hot Chocolate</td>\n",
       "      <td>Hot</td>\n",
       "      <td>15</td>\n",
       "      <td>9</td>\n",
       "      <td>10</td>\n",
       "      <td>20</td>\n",
       "      <td>3</td>\n",
       "      <td>180</td>\n",
       "      <td>90</td>\n",
       "    </tr>\n",
       "    <tr>\n",
       "      <th>2</th>\n",
       "      <td>Lemonade</td>\n",
       "      <td>Cold</td>\n",
       "      <td>15</td>\n",
       "      <td>13</td>\n",
       "      <td>6</td>\n",
       "      <td>11</td>\n",
       "      <td>5</td>\n",
       "      <td>143</td>\n",
       "      <td>65</td>\n",
       "    </tr>\n",
       "    <tr>\n",
       "      <th>3</th>\n",
       "      <td>Coffee</td>\n",
       "      <td>Hot</td>\n",
       "      <td>15</td>\n",
       "      <td>11</td>\n",
       "      <td>8</td>\n",
       "      <td>15</td>\n",
       "      <td>4</td>\n",
       "      <td>165</td>\n",
       "      <td>77</td>\n",
       "    </tr>\n",
       "    <tr>\n",
       "      <th>4</th>\n",
       "      <td>Milkshake</td>\n",
       "      <td>Cold</td>\n",
       "      <td>15</td>\n",
       "      <td>8</td>\n",
       "      <td>9</td>\n",
       "      <td>19</td>\n",
       "      <td>3</td>\n",
       "      <td>152</td>\n",
       "      <td>80</td>\n",
       "    </tr>\n",
       "    <tr>\n",
       "      <th>5</th>\n",
       "      <td>Tea</td>\n",
       "      <td>Hot</td>\n",
       "      <td>15</td>\n",
       "      <td>6</td>\n",
       "      <td>7</td>\n",
       "      <td>14</td>\n",
       "      <td>2</td>\n",
       "      <td>84</td>\n",
       "      <td>42</td>\n",
       "    </tr>\n",
       "    <tr>\n",
       "      <th>6</th>\n",
       "      <td>Smoothie</td>\n",
       "      <td>Cold</td>\n",
       "      <td>15</td>\n",
       "      <td>14</td>\n",
       "      <td>10</td>\n",
       "      <td>17</td>\n",
       "      <td>5</td>\n",
       "      <td>238</td>\n",
       "      <td>98</td>\n",
       "    </tr>\n",
       "    <tr>\n",
       "      <th>7</th>\n",
       "      <td>Soda</td>\n",
       "      <td>Hot</td>\n",
       "      <td>15</td>\n",
       "      <td>10</td>\n",
       "      <td>11</td>\n",
       "      <td>18</td>\n",
       "      <td>3</td>\n",
       "      <td>180</td>\n",
       "      <td>70</td>\n",
       "    </tr>\n",
       "    <tr>\n",
       "      <th>8</th>\n",
       "      <td>Protein Shake</td>\n",
       "      <td>Cold</td>\n",
       "      <td>15</td>\n",
       "      <td>8</td>\n",
       "      <td>8</td>\n",
       "      <td>20</td>\n",
       "      <td>3</td>\n",
       "      <td>160</td>\n",
       "      <td>96</td>\n",
       "    </tr>\n",
       "    <tr>\n",
       "      <th>9</th>\n",
       "      <td>Matcha Latte</td>\n",
       "      <td>Hot</td>\n",
       "      <td>15</td>\n",
       "      <td>10</td>\n",
       "      <td>9</td>\n",
       "      <td>12</td>\n",
       "      <td>3</td>\n",
       "      <td>120</td>\n",
       "      <td>30</td>\n",
       "    </tr>\n",
       "  </tbody>\n",
       "</table>\n",
       "</div>"
      ],
      "text/plain": [
       "    Product Name  Type  Stock  Quantity Sold  Cost of Goods Sold  Sale Price  \\\n",
       "0       Iced Tea  Cold     15              6                   7          13   \n",
       "1  Hot Chocolate   Hot     15              9                  10          20   \n",
       "2       Lemonade  Cold     15             13                   6          11   \n",
       "3         Coffee   Hot     15             11                   8          15   \n",
       "4      Milkshake  Cold     15              8                   9          19   \n",
       "5            Tea   Hot     15              6                   7          14   \n",
       "6       Smoothie  Cold     15             14                  10          17   \n",
       "7           Soda   Hot     15             10                  11          18   \n",
       "8  Protein Shake  Cold     15              8                   8          20   \n",
       "9   Matcha Latte   Hot     15             10                   9          12   \n",
       "\n",
       "   Rating  Total Revenue  Gross Profit  \n",
       "0       1             78            36  \n",
       "1       3            180            90  \n",
       "2       5            143            65  \n",
       "3       4            165            77  \n",
       "4       3            152            80  \n",
       "5       2             84            42  \n",
       "6       5            238            98  \n",
       "7       3            180            70  \n",
       "8       3            160            96  \n",
       "9       3            120            30  "
      ]
     },
     "execution_count": 120,
     "metadata": {},
     "output_type": "execute_result"
    }
   ],
   "source": [
    "# Gross Profit: difference between total revenue and the cost of goods (cost per product multiplied to the quantity sold).\n",
    "sales_df[\"Gross Profit\"] = sales_df[\"Total Revenue\"] - (sales_df[\"Quantity Sold\"] * sales_df[\"Cost of Goods Sold\"])\n",
    "sales_df"
   ]
  },
  {
   "cell_type": "code",
   "execution_count": 118,
   "metadata": {},
   "outputs": [],
   "source": [
    "# sales_df[\"Gross Profit V3\"] = sales_df['Total Revenue'] - (sales_df['Cost of Goods Sold'] * sales_df['Quantity Sold'])\n",
    "# sales_df"
   ]
  },
  {
   "cell_type": "markdown",
   "metadata": {},
   "source": [
    "Gross = Sales Price * Qty Sold\n",
    "<br>\n",
    "Costing = Cost of Goods * Qty Sold\n",
    "\n",
    "Gross - Costing = Total Rev"
   ]
  },
  {
   "cell_type": "markdown",
   "metadata": {},
   "source": [
    "### **Data Selection**\n",
    "\n",
    "Pandas provides numerous methods for selecting and indexing data in Series and DataFrames, \n",
    "including label-based indexing with .loc, integer-position based indexing with .iloc, and conditional selection."
   ]
  },
  {
   "cell_type": "code",
   "execution_count": 121,
   "metadata": {},
   "outputs": [
    {
     "data": {
      "text/plain": [
       "0         Iced Tea\n",
       "1    Hot Chocolate\n",
       "Name: Product Name, dtype: object"
      ]
     },
     "execution_count": 121,
     "metadata": {},
     "output_type": "execute_result"
    }
   ],
   "source": [
    "# [start:end(excluded):step]\n",
    "sales_df[\"Product Name\"][0:2]"
   ]
  },
  {
   "cell_type": "markdown",
   "metadata": {},
   "source": [
    "### **Data Selection in Series**"
   ]
  },
  {
   "cell_type": "code",
   "execution_count": 122,
   "metadata": {},
   "outputs": [
    {
     "data": {
      "text/plain": [
       "0         Iced Tea\n",
       "2         Lemonade\n",
       "4        Milkshake\n",
       "6         Smoothie\n",
       "8    Protein Shake\n",
       "Name: Product Name, dtype: object"
      ]
     },
     "execution_count": 122,
     "metadata": {},
     "output_type": "execute_result"
    }
   ],
   "source": [
    "# [start:end(excluded):step]\n",
    "sales_df[\"Product Name\"][::2]"
   ]
  },
  {
   "cell_type": "code",
   "execution_count": 123,
   "metadata": {},
   "outputs": [
    {
     "data": {
      "text/plain": [
       "9     Matcha Latte\n",
       "8    Protein Shake\n",
       "7             Soda\n",
       "6         Smoothie\n",
       "5              Tea\n",
       "4        Milkshake\n",
       "3           Coffee\n",
       "2         Lemonade\n",
       "1    Hot Chocolate\n",
       "0         Iced Tea\n",
       "Name: Product Name, dtype: object"
      ]
     },
     "execution_count": 123,
     "metadata": {},
     "output_type": "execute_result"
    }
   ],
   "source": [
    "# [start:end(excluded):step] -1 : reverse\n",
    "sales_df[\"Product Name\"][::-1]"
   ]
  },
  {
   "cell_type": "markdown",
   "metadata": {},
   "source": [
    "### **Data Selection in DataFrame**\n",
    "\n",
    "#### **Index Location (.iloc)**\n",
    "- Will get rows based on a number/index.\n",
    "- Will output into a DataFrame instead of a Series.\n",
    "> Syntax: [starting_index:ending_index(excluded):step]"
   ]
  },
  {
   "cell_type": "code",
   "execution_count": 126,
   "metadata": {},
   "outputs": [
    {
     "data": {
      "text/html": [
       "<div>\n",
       "<style scoped>\n",
       "    .dataframe tbody tr th:only-of-type {\n",
       "        vertical-align: middle;\n",
       "    }\n",
       "\n",
       "    .dataframe tbody tr th {\n",
       "        vertical-align: top;\n",
       "    }\n",
       "\n",
       "    .dataframe thead th {\n",
       "        text-align: right;\n",
       "    }\n",
       "</style>\n",
       "<table border=\"1\" class=\"dataframe\">\n",
       "  <thead>\n",
       "    <tr style=\"text-align: right;\">\n",
       "      <th></th>\n",
       "      <th>Product Name</th>\n",
       "      <th>Type</th>\n",
       "      <th>Stock</th>\n",
       "      <th>Quantity Sold</th>\n",
       "      <th>Cost of Goods Sold</th>\n",
       "      <th>Sale Price</th>\n",
       "      <th>Rating</th>\n",
       "      <th>Total Revenue</th>\n",
       "      <th>Gross Profit</th>\n",
       "    </tr>\n",
       "  </thead>\n",
       "  <tbody>\n",
       "    <tr>\n",
       "      <th>0</th>\n",
       "      <td>Iced Tea</td>\n",
       "      <td>Cold</td>\n",
       "      <td>15</td>\n",
       "      <td>6</td>\n",
       "      <td>7</td>\n",
       "      <td>13</td>\n",
       "      <td>1</td>\n",
       "      <td>78</td>\n",
       "      <td>36</td>\n",
       "    </tr>\n",
       "    <tr>\n",
       "      <th>1</th>\n",
       "      <td>Hot Chocolate</td>\n",
       "      <td>Hot</td>\n",
       "      <td>15</td>\n",
       "      <td>9</td>\n",
       "      <td>10</td>\n",
       "      <td>20</td>\n",
       "      <td>3</td>\n",
       "      <td>180</td>\n",
       "      <td>90</td>\n",
       "    </tr>\n",
       "    <tr>\n",
       "      <th>2</th>\n",
       "      <td>Lemonade</td>\n",
       "      <td>Cold</td>\n",
       "      <td>15</td>\n",
       "      <td>13</td>\n",
       "      <td>6</td>\n",
       "      <td>11</td>\n",
       "      <td>5</td>\n",
       "      <td>143</td>\n",
       "      <td>65</td>\n",
       "    </tr>\n",
       "  </tbody>\n",
       "</table>\n",
       "</div>"
      ],
      "text/plain": [
       "    Product Name  Type  Stock  Quantity Sold  Cost of Goods Sold  Sale Price  \\\n",
       "0       Iced Tea  Cold     15              6                   7          13   \n",
       "1  Hot Chocolate   Hot     15              9                  10          20   \n",
       "2       Lemonade  Cold     15             13                   6          11   \n",
       "\n",
       "   Rating  Total Revenue  Gross Profit  \n",
       "0       1             78            36  \n",
       "1       3            180            90  \n",
       "2       5            143            65  "
      ]
     },
     "execution_count": 126,
     "metadata": {},
     "output_type": "execute_result"
    }
   ],
   "source": [
    "# [start:end(excluded):step]\n",
    "# N: Get the first 3 rows/records inside the DataFrame\n",
    "sales_df.iloc[0:3]\n"
   ]
  },
  {
   "cell_type": "code",
   "execution_count": 127,
   "metadata": {},
   "outputs": [
    {
     "data": {
      "text/html": [
       "<div>\n",
       "<style scoped>\n",
       "    .dataframe tbody tr th:only-of-type {\n",
       "        vertical-align: middle;\n",
       "    }\n",
       "\n",
       "    .dataframe tbody tr th {\n",
       "        vertical-align: top;\n",
       "    }\n",
       "\n",
       "    .dataframe thead th {\n",
       "        text-align: right;\n",
       "    }\n",
       "</style>\n",
       "<table border=\"1\" class=\"dataframe\">\n",
       "  <thead>\n",
       "    <tr style=\"text-align: right;\">\n",
       "      <th></th>\n",
       "      <th>Product Name</th>\n",
       "      <th>Type</th>\n",
       "      <th>Stock</th>\n",
       "      <th>Quantity Sold</th>\n",
       "      <th>Cost of Goods Sold</th>\n",
       "      <th>Sale Price</th>\n",
       "    </tr>\n",
       "  </thead>\n",
       "  <tbody>\n",
       "    <tr>\n",
       "      <th>0</th>\n",
       "      <td>Iced Tea</td>\n",
       "      <td>Cold</td>\n",
       "      <td>15</td>\n",
       "      <td>6</td>\n",
       "      <td>7</td>\n",
       "      <td>13</td>\n",
       "    </tr>\n",
       "    <tr>\n",
       "      <th>1</th>\n",
       "      <td>Hot Chocolate</td>\n",
       "      <td>Hot</td>\n",
       "      <td>15</td>\n",
       "      <td>9</td>\n",
       "      <td>10</td>\n",
       "      <td>20</td>\n",
       "    </tr>\n",
       "    <tr>\n",
       "      <th>2</th>\n",
       "      <td>Lemonade</td>\n",
       "      <td>Cold</td>\n",
       "      <td>15</td>\n",
       "      <td>13</td>\n",
       "      <td>6</td>\n",
       "      <td>11</td>\n",
       "    </tr>\n",
       "    <tr>\n",
       "      <th>3</th>\n",
       "      <td>Coffee</td>\n",
       "      <td>Hot</td>\n",
       "      <td>15</td>\n",
       "      <td>11</td>\n",
       "      <td>8</td>\n",
       "      <td>15</td>\n",
       "    </tr>\n",
       "    <tr>\n",
       "      <th>4</th>\n",
       "      <td>Milkshake</td>\n",
       "      <td>Cold</td>\n",
       "      <td>15</td>\n",
       "      <td>8</td>\n",
       "      <td>9</td>\n",
       "      <td>19</td>\n",
       "    </tr>\n",
       "  </tbody>\n",
       "</table>\n",
       "</div>"
      ],
      "text/plain": [
       "    Product Name  Type  Stock  Quantity Sold  Cost of Goods Sold  Sale Price\n",
       "0       Iced Tea  Cold     15              6                   7          13\n",
       "1  Hot Chocolate   Hot     15              9                  10          20\n",
       "2       Lemonade  Cold     15             13                   6          11\n",
       "3         Coffee   Hot     15             11                   8          15\n",
       "4      Milkshake  Cold     15              8                   9          19"
      ]
     },
     "execution_count": 127,
     "metadata": {},
     "output_type": "execute_result"
    }
   ],
   "source": [
    "# [start:end(excluded):step]\n",
    "# Get the first 5 rows/records and only the product name up until the sale price\n",
    "sales_df.iloc[0:5, 0:6]"
   ]
  },
  {
   "cell_type": "markdown",
   "metadata": {},
   "source": [
    "#### **Location (.loc)**\n",
    "- Access a group of rows and columns by label(s) or a boolean array.\n",
    "> Syntax: [starting_index:ending_index(included):step]"
   ]
  },
  {
   "cell_type": "code",
   "execution_count": 128,
   "metadata": {},
   "outputs": [
    {
     "data": {
      "text/html": [
       "<div>\n",
       "<style scoped>\n",
       "    .dataframe tbody tr th:only-of-type {\n",
       "        vertical-align: middle;\n",
       "    }\n",
       "\n",
       "    .dataframe tbody tr th {\n",
       "        vertical-align: top;\n",
       "    }\n",
       "\n",
       "    .dataframe thead th {\n",
       "        text-align: right;\n",
       "    }\n",
       "</style>\n",
       "<table border=\"1\" class=\"dataframe\">\n",
       "  <thead>\n",
       "    <tr style=\"text-align: right;\">\n",
       "      <th></th>\n",
       "      <th>Product Name</th>\n",
       "      <th>Type</th>\n",
       "      <th>Stock</th>\n",
       "      <th>Quantity Sold</th>\n",
       "      <th>Cost of Goods Sold</th>\n",
       "      <th>Sale Price</th>\n",
       "      <th>Rating</th>\n",
       "      <th>Total Revenue</th>\n",
       "      <th>Gross Profit</th>\n",
       "    </tr>\n",
       "  </thead>\n",
       "  <tbody>\n",
       "    <tr>\n",
       "      <th>0</th>\n",
       "      <td>Iced Tea</td>\n",
       "      <td>Cold</td>\n",
       "      <td>15</td>\n",
       "      <td>6</td>\n",
       "      <td>7</td>\n",
       "      <td>13</td>\n",
       "      <td>1</td>\n",
       "      <td>78</td>\n",
       "      <td>36</td>\n",
       "    </tr>\n",
       "    <tr>\n",
       "      <th>1</th>\n",
       "      <td>Hot Chocolate</td>\n",
       "      <td>Hot</td>\n",
       "      <td>15</td>\n",
       "      <td>9</td>\n",
       "      <td>10</td>\n",
       "      <td>20</td>\n",
       "      <td>3</td>\n",
       "      <td>180</td>\n",
       "      <td>90</td>\n",
       "    </tr>\n",
       "    <tr>\n",
       "      <th>2</th>\n",
       "      <td>Lemonade</td>\n",
       "      <td>Cold</td>\n",
       "      <td>15</td>\n",
       "      <td>13</td>\n",
       "      <td>6</td>\n",
       "      <td>11</td>\n",
       "      <td>5</td>\n",
       "      <td>143</td>\n",
       "      <td>65</td>\n",
       "    </tr>\n",
       "    <tr>\n",
       "      <th>3</th>\n",
       "      <td>Coffee</td>\n",
       "      <td>Hot</td>\n",
       "      <td>15</td>\n",
       "      <td>11</td>\n",
       "      <td>8</td>\n",
       "      <td>15</td>\n",
       "      <td>4</td>\n",
       "      <td>165</td>\n",
       "      <td>77</td>\n",
       "    </tr>\n",
       "    <tr>\n",
       "      <th>4</th>\n",
       "      <td>Milkshake</td>\n",
       "      <td>Cold</td>\n",
       "      <td>15</td>\n",
       "      <td>8</td>\n",
       "      <td>9</td>\n",
       "      <td>19</td>\n",
       "      <td>3</td>\n",
       "      <td>152</td>\n",
       "      <td>80</td>\n",
       "    </tr>\n",
       "    <tr>\n",
       "      <th>5</th>\n",
       "      <td>Tea</td>\n",
       "      <td>Hot</td>\n",
       "      <td>15</td>\n",
       "      <td>6</td>\n",
       "      <td>7</td>\n",
       "      <td>14</td>\n",
       "      <td>2</td>\n",
       "      <td>84</td>\n",
       "      <td>42</td>\n",
       "    </tr>\n",
       "    <tr>\n",
       "      <th>6</th>\n",
       "      <td>Smoothie</td>\n",
       "      <td>Cold</td>\n",
       "      <td>15</td>\n",
       "      <td>14</td>\n",
       "      <td>10</td>\n",
       "      <td>17</td>\n",
       "      <td>5</td>\n",
       "      <td>238</td>\n",
       "      <td>98</td>\n",
       "    </tr>\n",
       "    <tr>\n",
       "      <th>7</th>\n",
       "      <td>Soda</td>\n",
       "      <td>Hot</td>\n",
       "      <td>15</td>\n",
       "      <td>10</td>\n",
       "      <td>11</td>\n",
       "      <td>18</td>\n",
       "      <td>3</td>\n",
       "      <td>180</td>\n",
       "      <td>70</td>\n",
       "    </tr>\n",
       "    <tr>\n",
       "      <th>8</th>\n",
       "      <td>Protein Shake</td>\n",
       "      <td>Cold</td>\n",
       "      <td>15</td>\n",
       "      <td>8</td>\n",
       "      <td>8</td>\n",
       "      <td>20</td>\n",
       "      <td>3</td>\n",
       "      <td>160</td>\n",
       "      <td>96</td>\n",
       "    </tr>\n",
       "    <tr>\n",
       "      <th>9</th>\n",
       "      <td>Matcha Latte</td>\n",
       "      <td>Hot</td>\n",
       "      <td>15</td>\n",
       "      <td>10</td>\n",
       "      <td>9</td>\n",
       "      <td>12</td>\n",
       "      <td>3</td>\n",
       "      <td>120</td>\n",
       "      <td>30</td>\n",
       "    </tr>\n",
       "  </tbody>\n",
       "</table>\n",
       "</div>"
      ],
      "text/plain": [
       "    Product Name  Type  Stock  Quantity Sold  Cost of Goods Sold  Sale Price  \\\n",
       "0       Iced Tea  Cold     15              6                   7          13   \n",
       "1  Hot Chocolate   Hot     15              9                  10          20   \n",
       "2       Lemonade  Cold     15             13                   6          11   \n",
       "3         Coffee   Hot     15             11                   8          15   \n",
       "4      Milkshake  Cold     15              8                   9          19   \n",
       "5            Tea   Hot     15              6                   7          14   \n",
       "6       Smoothie  Cold     15             14                  10          17   \n",
       "7           Soda   Hot     15             10                  11          18   \n",
       "8  Protein Shake  Cold     15              8                   8          20   \n",
       "9   Matcha Latte   Hot     15             10                   9          12   \n",
       "\n",
       "   Rating  Total Revenue  Gross Profit  \n",
       "0       1             78            36  \n",
       "1       3            180            90  \n",
       "2       5            143            65  \n",
       "3       4            165            77  \n",
       "4       3            152            80  \n",
       "5       2             84            42  \n",
       "6       5            238            98  \n",
       "7       3            180            70  \n",
       "8       3            160            96  \n",
       "9       3            120            30  "
      ]
     },
     "execution_count": 128,
     "metadata": {},
     "output_type": "execute_result"
    }
   ],
   "source": [
    "sales_df"
   ]
  },
  {
   "cell_type": "code",
   "execution_count": 133,
   "metadata": {},
   "outputs": [
    {
     "data": {
      "text/html": [
       "<div>\n",
       "<style scoped>\n",
       "    .dataframe tbody tr th:only-of-type {\n",
       "        vertical-align: middle;\n",
       "    }\n",
       "\n",
       "    .dataframe tbody tr th {\n",
       "        vertical-align: top;\n",
       "    }\n",
       "\n",
       "    .dataframe thead th {\n",
       "        text-align: right;\n",
       "    }\n",
       "</style>\n",
       "<table border=\"1\" class=\"dataframe\">\n",
       "  <thead>\n",
       "    <tr style=\"text-align: right;\">\n",
       "      <th></th>\n",
       "      <th>Product Name</th>\n",
       "      <th>Type</th>\n",
       "      <th>Stock</th>\n",
       "      <th>Quantity Sold</th>\n",
       "      <th>Cost of Goods Sold</th>\n",
       "      <th>Sale Price</th>\n",
       "    </tr>\n",
       "  </thead>\n",
       "  <tbody>\n",
       "    <tr>\n",
       "      <th>1</th>\n",
       "      <td>Hot Chocolate</td>\n",
       "      <td>Hot</td>\n",
       "      <td>15</td>\n",
       "      <td>9</td>\n",
       "      <td>10</td>\n",
       "      <td>20</td>\n",
       "    </tr>\n",
       "    <tr>\n",
       "      <th>2</th>\n",
       "      <td>Lemonade</td>\n",
       "      <td>Cold</td>\n",
       "      <td>15</td>\n",
       "      <td>13</td>\n",
       "      <td>6</td>\n",
       "      <td>11</td>\n",
       "    </tr>\n",
       "    <tr>\n",
       "      <th>3</th>\n",
       "      <td>Coffee</td>\n",
       "      <td>Hot</td>\n",
       "      <td>15</td>\n",
       "      <td>11</td>\n",
       "      <td>8</td>\n",
       "      <td>15</td>\n",
       "    </tr>\n",
       "    <tr>\n",
       "      <th>4</th>\n",
       "      <td>Milkshake</td>\n",
       "      <td>Cold</td>\n",
       "      <td>15</td>\n",
       "      <td>8</td>\n",
       "      <td>9</td>\n",
       "      <td>19</td>\n",
       "    </tr>\n",
       "    <tr>\n",
       "      <th>5</th>\n",
       "      <td>Tea</td>\n",
       "      <td>Hot</td>\n",
       "      <td>15</td>\n",
       "      <td>6</td>\n",
       "      <td>7</td>\n",
       "      <td>14</td>\n",
       "    </tr>\n",
       "  </tbody>\n",
       "</table>\n",
       "</div>"
      ],
      "text/plain": [
       "    Product Name  Type  Stock  Quantity Sold  Cost of Goods Sold  Sale Price\n",
       "1  Hot Chocolate   Hot     15              9                  10          20\n",
       "2       Lemonade  Cold     15             13                   6          11\n",
       "3         Coffee   Hot     15             11                   8          15\n",
       "4      Milkshake  Cold     15              8                   9          19\n",
       "5            Tea   Hot     15              6                   7          14"
      ]
     },
     "execution_count": 133,
     "metadata": {},
     "output_type": "execute_result"
    }
   ],
   "source": [
    "# [start:end(included):step]\n",
    "sales_df.loc[1:5, \"Product Name\":\"Sale Price\"]"
   ]
  },
  {
   "cell_type": "code",
   "execution_count": 135,
   "metadata": {},
   "outputs": [
    {
     "data": {
      "text/html": [
       "<div>\n",
       "<style scoped>\n",
       "    .dataframe tbody tr th:only-of-type {\n",
       "        vertical-align: middle;\n",
       "    }\n",
       "\n",
       "    .dataframe tbody tr th {\n",
       "        vertical-align: top;\n",
       "    }\n",
       "\n",
       "    .dataframe thead th {\n",
       "        text-align: right;\n",
       "    }\n",
       "</style>\n",
       "<table border=\"1\" class=\"dataframe\">\n",
       "  <thead>\n",
       "    <tr style=\"text-align: right;\">\n",
       "      <th></th>\n",
       "      <th>Product Name</th>\n",
       "      <th>Quantity Sold</th>\n",
       "      <th>Sale Price</th>\n",
       "    </tr>\n",
       "  </thead>\n",
       "  <tbody>\n",
       "    <tr>\n",
       "      <th>1</th>\n",
       "      <td>Hot Chocolate</td>\n",
       "      <td>9</td>\n",
       "      <td>20</td>\n",
       "    </tr>\n",
       "    <tr>\n",
       "      <th>2</th>\n",
       "      <td>Lemonade</td>\n",
       "      <td>13</td>\n",
       "      <td>11</td>\n",
       "    </tr>\n",
       "    <tr>\n",
       "      <th>3</th>\n",
       "      <td>Coffee</td>\n",
       "      <td>11</td>\n",
       "      <td>15</td>\n",
       "    </tr>\n",
       "    <tr>\n",
       "      <th>4</th>\n",
       "      <td>Milkshake</td>\n",
       "      <td>8</td>\n",
       "      <td>19</td>\n",
       "    </tr>\n",
       "    <tr>\n",
       "      <th>5</th>\n",
       "      <td>Tea</td>\n",
       "      <td>6</td>\n",
       "      <td>14</td>\n",
       "    </tr>\n",
       "  </tbody>\n",
       "</table>\n",
       "</div>"
      ],
      "text/plain": [
       "    Product Name  Quantity Sold  Sale Price\n",
       "1  Hot Chocolate              9          20\n",
       "2       Lemonade             13          11\n",
       "3         Coffee             11          15\n",
       "4      Milkshake              8          19\n",
       "5            Tea              6          14"
      ]
     },
     "execution_count": 135,
     "metadata": {},
     "output_type": "execute_result"
    }
   ],
   "source": [
    "# [start:end(included):step]\n",
    "sales_df.loc[1:5, [\"Product Name\", \"Quantity Sold\", \"Sale Price\"]]"
   ]
  },
  {
   "cell_type": "markdown",
   "metadata": {},
   "source": [
    "## **Conditional Filtering** "
   ]
  },
  {
   "cell_type": "code",
   "execution_count": 136,
   "metadata": {},
   "outputs": [
    {
     "data": {
      "text/html": [
       "<div>\n",
       "<style scoped>\n",
       "    .dataframe tbody tr th:only-of-type {\n",
       "        vertical-align: middle;\n",
       "    }\n",
       "\n",
       "    .dataframe tbody tr th {\n",
       "        vertical-align: top;\n",
       "    }\n",
       "\n",
       "    .dataframe thead th {\n",
       "        text-align: right;\n",
       "    }\n",
       "</style>\n",
       "<table border=\"1\" class=\"dataframe\">\n",
       "  <thead>\n",
       "    <tr style=\"text-align: right;\">\n",
       "      <th></th>\n",
       "      <th>Product Name</th>\n",
       "      <th>Type</th>\n",
       "      <th>Stock</th>\n",
       "      <th>Quantity Sold</th>\n",
       "      <th>Cost of Goods Sold</th>\n",
       "      <th>Sale Price</th>\n",
       "      <th>Rating</th>\n",
       "      <th>Total Revenue</th>\n",
       "      <th>Gross Profit</th>\n",
       "    </tr>\n",
       "  </thead>\n",
       "  <tbody>\n",
       "    <tr>\n",
       "      <th>0</th>\n",
       "      <td>Iced Tea</td>\n",
       "      <td>Cold</td>\n",
       "      <td>15</td>\n",
       "      <td>6</td>\n",
       "      <td>7</td>\n",
       "      <td>13</td>\n",
       "      <td>1</td>\n",
       "      <td>78</td>\n",
       "      <td>36</td>\n",
       "    </tr>\n",
       "    <tr>\n",
       "      <th>1</th>\n",
       "      <td>Hot Chocolate</td>\n",
       "      <td>Hot</td>\n",
       "      <td>15</td>\n",
       "      <td>9</td>\n",
       "      <td>10</td>\n",
       "      <td>20</td>\n",
       "      <td>3</td>\n",
       "      <td>180</td>\n",
       "      <td>90</td>\n",
       "    </tr>\n",
       "    <tr>\n",
       "      <th>2</th>\n",
       "      <td>Lemonade</td>\n",
       "      <td>Cold</td>\n",
       "      <td>15</td>\n",
       "      <td>13</td>\n",
       "      <td>6</td>\n",
       "      <td>11</td>\n",
       "      <td>5</td>\n",
       "      <td>143</td>\n",
       "      <td>65</td>\n",
       "    </tr>\n",
       "    <tr>\n",
       "      <th>3</th>\n",
       "      <td>Coffee</td>\n",
       "      <td>Hot</td>\n",
       "      <td>15</td>\n",
       "      <td>11</td>\n",
       "      <td>8</td>\n",
       "      <td>15</td>\n",
       "      <td>4</td>\n",
       "      <td>165</td>\n",
       "      <td>77</td>\n",
       "    </tr>\n",
       "    <tr>\n",
       "      <th>4</th>\n",
       "      <td>Milkshake</td>\n",
       "      <td>Cold</td>\n",
       "      <td>15</td>\n",
       "      <td>8</td>\n",
       "      <td>9</td>\n",
       "      <td>19</td>\n",
       "      <td>3</td>\n",
       "      <td>152</td>\n",
       "      <td>80</td>\n",
       "    </tr>\n",
       "    <tr>\n",
       "      <th>5</th>\n",
       "      <td>Tea</td>\n",
       "      <td>Hot</td>\n",
       "      <td>15</td>\n",
       "      <td>6</td>\n",
       "      <td>7</td>\n",
       "      <td>14</td>\n",
       "      <td>2</td>\n",
       "      <td>84</td>\n",
       "      <td>42</td>\n",
       "    </tr>\n",
       "    <tr>\n",
       "      <th>6</th>\n",
       "      <td>Smoothie</td>\n",
       "      <td>Cold</td>\n",
       "      <td>15</td>\n",
       "      <td>14</td>\n",
       "      <td>10</td>\n",
       "      <td>17</td>\n",
       "      <td>5</td>\n",
       "      <td>238</td>\n",
       "      <td>98</td>\n",
       "    </tr>\n",
       "    <tr>\n",
       "      <th>7</th>\n",
       "      <td>Soda</td>\n",
       "      <td>Hot</td>\n",
       "      <td>15</td>\n",
       "      <td>10</td>\n",
       "      <td>11</td>\n",
       "      <td>18</td>\n",
       "      <td>3</td>\n",
       "      <td>180</td>\n",
       "      <td>70</td>\n",
       "    </tr>\n",
       "    <tr>\n",
       "      <th>8</th>\n",
       "      <td>Protein Shake</td>\n",
       "      <td>Cold</td>\n",
       "      <td>15</td>\n",
       "      <td>8</td>\n",
       "      <td>8</td>\n",
       "      <td>20</td>\n",
       "      <td>3</td>\n",
       "      <td>160</td>\n",
       "      <td>96</td>\n",
       "    </tr>\n",
       "    <tr>\n",
       "      <th>9</th>\n",
       "      <td>Matcha Latte</td>\n",
       "      <td>Hot</td>\n",
       "      <td>15</td>\n",
       "      <td>10</td>\n",
       "      <td>9</td>\n",
       "      <td>12</td>\n",
       "      <td>3</td>\n",
       "      <td>120</td>\n",
       "      <td>30</td>\n",
       "    </tr>\n",
       "  </tbody>\n",
       "</table>\n",
       "</div>"
      ],
      "text/plain": [
       "    Product Name  Type  Stock  Quantity Sold  Cost of Goods Sold  Sale Price  \\\n",
       "0       Iced Tea  Cold     15              6                   7          13   \n",
       "1  Hot Chocolate   Hot     15              9                  10          20   \n",
       "2       Lemonade  Cold     15             13                   6          11   \n",
       "3         Coffee   Hot     15             11                   8          15   \n",
       "4      Milkshake  Cold     15              8                   9          19   \n",
       "5            Tea   Hot     15              6                   7          14   \n",
       "6       Smoothie  Cold     15             14                  10          17   \n",
       "7           Soda   Hot     15             10                  11          18   \n",
       "8  Protein Shake  Cold     15              8                   8          20   \n",
       "9   Matcha Latte   Hot     15             10                   9          12   \n",
       "\n",
       "   Rating  Total Revenue  Gross Profit  \n",
       "0       1             78            36  \n",
       "1       3            180            90  \n",
       "2       5            143            65  \n",
       "3       4            165            77  \n",
       "4       3            152            80  \n",
       "5       2             84            42  \n",
       "6       5            238            98  \n",
       "7       3            180            70  \n",
       "8       3            160            96  \n",
       "9       3            120            30  "
      ]
     },
     "execution_count": 136,
     "metadata": {},
     "output_type": "execute_result"
    }
   ],
   "source": [
    "sales_df"
   ]
  },
  {
   "cell_type": "code",
   "execution_count": 140,
   "metadata": {},
   "outputs": [
    {
     "data": {
      "text/plain": [
       "0    False\n",
       "1     True\n",
       "2    False\n",
       "3     True\n",
       "4     True\n",
       "5    False\n",
       "6     True\n",
       "7     True\n",
       "8     True\n",
       "9    False\n",
       "Name: Total Revenue, dtype: bool"
      ]
     },
     "execution_count": 140,
     "metadata": {},
     "output_type": "execute_result"
    }
   ],
   "source": [
    "sales_df[\"Total Revenue\"] >= 150"
   ]
  },
  {
   "cell_type": "code",
   "execution_count": 139,
   "metadata": {},
   "outputs": [
    {
     "data": {
      "text/html": [
       "<div>\n",
       "<style scoped>\n",
       "    .dataframe tbody tr th:only-of-type {\n",
       "        vertical-align: middle;\n",
       "    }\n",
       "\n",
       "    .dataframe tbody tr th {\n",
       "        vertical-align: top;\n",
       "    }\n",
       "\n",
       "    .dataframe thead th {\n",
       "        text-align: right;\n",
       "    }\n",
       "</style>\n",
       "<table border=\"1\" class=\"dataframe\">\n",
       "  <thead>\n",
       "    <tr style=\"text-align: right;\">\n",
       "      <th></th>\n",
       "      <th>Product Name</th>\n",
       "      <th>Type</th>\n",
       "      <th>Stock</th>\n",
       "      <th>Quantity Sold</th>\n",
       "      <th>Cost of Goods Sold</th>\n",
       "      <th>Sale Price</th>\n",
       "      <th>Rating</th>\n",
       "      <th>Total Revenue</th>\n",
       "      <th>Gross Profit</th>\n",
       "    </tr>\n",
       "  </thead>\n",
       "  <tbody>\n",
       "    <tr>\n",
       "      <th>1</th>\n",
       "      <td>Hot Chocolate</td>\n",
       "      <td>Hot</td>\n",
       "      <td>15</td>\n",
       "      <td>9</td>\n",
       "      <td>10</td>\n",
       "      <td>20</td>\n",
       "      <td>3</td>\n",
       "      <td>180</td>\n",
       "      <td>90</td>\n",
       "    </tr>\n",
       "    <tr>\n",
       "      <th>3</th>\n",
       "      <td>Coffee</td>\n",
       "      <td>Hot</td>\n",
       "      <td>15</td>\n",
       "      <td>11</td>\n",
       "      <td>8</td>\n",
       "      <td>15</td>\n",
       "      <td>4</td>\n",
       "      <td>165</td>\n",
       "      <td>77</td>\n",
       "    </tr>\n",
       "    <tr>\n",
       "      <th>4</th>\n",
       "      <td>Milkshake</td>\n",
       "      <td>Cold</td>\n",
       "      <td>15</td>\n",
       "      <td>8</td>\n",
       "      <td>9</td>\n",
       "      <td>19</td>\n",
       "      <td>3</td>\n",
       "      <td>152</td>\n",
       "      <td>80</td>\n",
       "    </tr>\n",
       "    <tr>\n",
       "      <th>6</th>\n",
       "      <td>Smoothie</td>\n",
       "      <td>Cold</td>\n",
       "      <td>15</td>\n",
       "      <td>14</td>\n",
       "      <td>10</td>\n",
       "      <td>17</td>\n",
       "      <td>5</td>\n",
       "      <td>238</td>\n",
       "      <td>98</td>\n",
       "    </tr>\n",
       "    <tr>\n",
       "      <th>7</th>\n",
       "      <td>Soda</td>\n",
       "      <td>Hot</td>\n",
       "      <td>15</td>\n",
       "      <td>10</td>\n",
       "      <td>11</td>\n",
       "      <td>18</td>\n",
       "      <td>3</td>\n",
       "      <td>180</td>\n",
       "      <td>70</td>\n",
       "    </tr>\n",
       "    <tr>\n",
       "      <th>8</th>\n",
       "      <td>Protein Shake</td>\n",
       "      <td>Cold</td>\n",
       "      <td>15</td>\n",
       "      <td>8</td>\n",
       "      <td>8</td>\n",
       "      <td>20</td>\n",
       "      <td>3</td>\n",
       "      <td>160</td>\n",
       "      <td>96</td>\n",
       "    </tr>\n",
       "  </tbody>\n",
       "</table>\n",
       "</div>"
      ],
      "text/plain": [
       "    Product Name  Type  Stock  Quantity Sold  Cost of Goods Sold  Sale Price  \\\n",
       "1  Hot Chocolate   Hot     15              9                  10          20   \n",
       "3         Coffee   Hot     15             11                   8          15   \n",
       "4      Milkshake  Cold     15              8                   9          19   \n",
       "6       Smoothie  Cold     15             14                  10          17   \n",
       "7           Soda   Hot     15             10                  11          18   \n",
       "8  Protein Shake  Cold     15              8                   8          20   \n",
       "\n",
       "   Rating  Total Revenue  Gross Profit  \n",
       "1       3            180            90  \n",
       "3       4            165            77  \n",
       "4       3            152            80  \n",
       "6       5            238            98  \n",
       "7       3            180            70  \n",
       "8       3            160            96  "
      ]
     },
     "execution_count": 139,
     "metadata": {},
     "output_type": "execute_result"
    }
   ],
   "source": [
    "sales_df[sales_df[\"Total Revenue\"] >= 150]"
   ]
  },
  {
   "cell_type": "code",
   "execution_count": 141,
   "metadata": {},
   "outputs": [
    {
     "data": {
      "text/html": [
       "<div>\n",
       "<style scoped>\n",
       "    .dataframe tbody tr th:only-of-type {\n",
       "        vertical-align: middle;\n",
       "    }\n",
       "\n",
       "    .dataframe tbody tr th {\n",
       "        vertical-align: top;\n",
       "    }\n",
       "\n",
       "    .dataframe thead th {\n",
       "        text-align: right;\n",
       "    }\n",
       "</style>\n",
       "<table border=\"1\" class=\"dataframe\">\n",
       "  <thead>\n",
       "    <tr style=\"text-align: right;\">\n",
       "      <th></th>\n",
       "      <th>Product Name</th>\n",
       "      <th>Type</th>\n",
       "      <th>Stock</th>\n",
       "      <th>Quantity Sold</th>\n",
       "      <th>Cost of Goods Sold</th>\n",
       "      <th>Sale Price</th>\n",
       "      <th>Rating</th>\n",
       "      <th>Total Revenue</th>\n",
       "      <th>Gross Profit</th>\n",
       "    </tr>\n",
       "  </thead>\n",
       "  <tbody>\n",
       "    <tr>\n",
       "      <th>4</th>\n",
       "      <td>Milkshake</td>\n",
       "      <td>Cold</td>\n",
       "      <td>15</td>\n",
       "      <td>8</td>\n",
       "      <td>9</td>\n",
       "      <td>19</td>\n",
       "      <td>3</td>\n",
       "      <td>152</td>\n",
       "      <td>80</td>\n",
       "    </tr>\n",
       "    <tr>\n",
       "      <th>6</th>\n",
       "      <td>Smoothie</td>\n",
       "      <td>Cold</td>\n",
       "      <td>15</td>\n",
       "      <td>14</td>\n",
       "      <td>10</td>\n",
       "      <td>17</td>\n",
       "      <td>5</td>\n",
       "      <td>238</td>\n",
       "      <td>98</td>\n",
       "    </tr>\n",
       "    <tr>\n",
       "      <th>8</th>\n",
       "      <td>Protein Shake</td>\n",
       "      <td>Cold</td>\n",
       "      <td>15</td>\n",
       "      <td>8</td>\n",
       "      <td>8</td>\n",
       "      <td>20</td>\n",
       "      <td>3</td>\n",
       "      <td>160</td>\n",
       "      <td>96</td>\n",
       "    </tr>\n",
       "  </tbody>\n",
       "</table>\n",
       "</div>"
      ],
      "text/plain": [
       "    Product Name  Type  Stock  Quantity Sold  Cost of Goods Sold  Sale Price  \\\n",
       "4      Milkshake  Cold     15              8                   9          19   \n",
       "6       Smoothie  Cold     15             14                  10          17   \n",
       "8  Protein Shake  Cold     15              8                   8          20   \n",
       "\n",
       "   Rating  Total Revenue  Gross Profit  \n",
       "4       3            152            80  \n",
       "6       5            238            98  \n",
       "8       3            160            96  "
      ]
     },
     "execution_count": 141,
     "metadata": {},
     "output_type": "execute_result"
    }
   ],
   "source": [
    "# Task: Get all the cold beverages that have a total revenue greater than or equal to 150\n",
    "sales_df[(sales_df[\"Type\"] == \"Cold\") & (sales_df[\"Total Revenue\"] >= 150)]\n",
    "# & - Amphersand\n",
    "# | - Pipe\n",
    "# ! - Exclamation Mark"
   ]
  },
  {
   "cell_type": "markdown",
   "metadata": {},
   "source": [
    "## **Apply**\n",
    "\n",
    "The apply function in pandas is a powerful tool for working with DataFrames. \n",
    "It allows you to apply a custom function to each element (row or column) of the DataFrame \n",
    "and return a new DataFrame or Series based on the results."
   ]
  },
  {
   "cell_type": "code",
   "execution_count": 142,
   "metadata": {},
   "outputs": [
    {
     "data": {
      "text/html": [
       "<div>\n",
       "<style scoped>\n",
       "    .dataframe tbody tr th:only-of-type {\n",
       "        vertical-align: middle;\n",
       "    }\n",
       "\n",
       "    .dataframe tbody tr th {\n",
       "        vertical-align: top;\n",
       "    }\n",
       "\n",
       "    .dataframe thead th {\n",
       "        text-align: right;\n",
       "    }\n",
       "</style>\n",
       "<table border=\"1\" class=\"dataframe\">\n",
       "  <thead>\n",
       "    <tr style=\"text-align: right;\">\n",
       "      <th></th>\n",
       "      <th>Product Name</th>\n",
       "      <th>Type</th>\n",
       "      <th>Stock</th>\n",
       "      <th>Quantity Sold</th>\n",
       "      <th>Cost of Goods Sold</th>\n",
       "      <th>Sale Price</th>\n",
       "      <th>Rating</th>\n",
       "      <th>Total Revenue</th>\n",
       "      <th>Gross Profit</th>\n",
       "    </tr>\n",
       "  </thead>\n",
       "  <tbody>\n",
       "    <tr>\n",
       "      <th>0</th>\n",
       "      <td>Iced Tea</td>\n",
       "      <td>Cold</td>\n",
       "      <td>15</td>\n",
       "      <td>6</td>\n",
       "      <td>7</td>\n",
       "      <td>13</td>\n",
       "      <td>1</td>\n",
       "      <td>78</td>\n",
       "      <td>36</td>\n",
       "    </tr>\n",
       "    <tr>\n",
       "      <th>1</th>\n",
       "      <td>Hot Chocolate</td>\n",
       "      <td>Hot</td>\n",
       "      <td>15</td>\n",
       "      <td>9</td>\n",
       "      <td>10</td>\n",
       "      <td>20</td>\n",
       "      <td>3</td>\n",
       "      <td>180</td>\n",
       "      <td>90</td>\n",
       "    </tr>\n",
       "    <tr>\n",
       "      <th>2</th>\n",
       "      <td>Lemonade</td>\n",
       "      <td>Cold</td>\n",
       "      <td>15</td>\n",
       "      <td>13</td>\n",
       "      <td>6</td>\n",
       "      <td>11</td>\n",
       "      <td>5</td>\n",
       "      <td>143</td>\n",
       "      <td>65</td>\n",
       "    </tr>\n",
       "    <tr>\n",
       "      <th>3</th>\n",
       "      <td>Coffee</td>\n",
       "      <td>Hot</td>\n",
       "      <td>15</td>\n",
       "      <td>11</td>\n",
       "      <td>8</td>\n",
       "      <td>15</td>\n",
       "      <td>4</td>\n",
       "      <td>165</td>\n",
       "      <td>77</td>\n",
       "    </tr>\n",
       "    <tr>\n",
       "      <th>4</th>\n",
       "      <td>Milkshake</td>\n",
       "      <td>Cold</td>\n",
       "      <td>15</td>\n",
       "      <td>8</td>\n",
       "      <td>9</td>\n",
       "      <td>19</td>\n",
       "      <td>3</td>\n",
       "      <td>152</td>\n",
       "      <td>80</td>\n",
       "    </tr>\n",
       "    <tr>\n",
       "      <th>5</th>\n",
       "      <td>Tea</td>\n",
       "      <td>Hot</td>\n",
       "      <td>15</td>\n",
       "      <td>6</td>\n",
       "      <td>7</td>\n",
       "      <td>14</td>\n",
       "      <td>2</td>\n",
       "      <td>84</td>\n",
       "      <td>42</td>\n",
       "    </tr>\n",
       "    <tr>\n",
       "      <th>6</th>\n",
       "      <td>Smoothie</td>\n",
       "      <td>Cold</td>\n",
       "      <td>15</td>\n",
       "      <td>14</td>\n",
       "      <td>10</td>\n",
       "      <td>17</td>\n",
       "      <td>5</td>\n",
       "      <td>238</td>\n",
       "      <td>98</td>\n",
       "    </tr>\n",
       "    <tr>\n",
       "      <th>7</th>\n",
       "      <td>Soda</td>\n",
       "      <td>Hot</td>\n",
       "      <td>15</td>\n",
       "      <td>10</td>\n",
       "      <td>11</td>\n",
       "      <td>18</td>\n",
       "      <td>3</td>\n",
       "      <td>180</td>\n",
       "      <td>70</td>\n",
       "    </tr>\n",
       "    <tr>\n",
       "      <th>8</th>\n",
       "      <td>Protein Shake</td>\n",
       "      <td>Cold</td>\n",
       "      <td>15</td>\n",
       "      <td>8</td>\n",
       "      <td>8</td>\n",
       "      <td>20</td>\n",
       "      <td>3</td>\n",
       "      <td>160</td>\n",
       "      <td>96</td>\n",
       "    </tr>\n",
       "    <tr>\n",
       "      <th>9</th>\n",
       "      <td>Matcha Latte</td>\n",
       "      <td>Hot</td>\n",
       "      <td>15</td>\n",
       "      <td>10</td>\n",
       "      <td>9</td>\n",
       "      <td>12</td>\n",
       "      <td>3</td>\n",
       "      <td>120</td>\n",
       "      <td>30</td>\n",
       "    </tr>\n",
       "  </tbody>\n",
       "</table>\n",
       "</div>"
      ],
      "text/plain": [
       "    Product Name  Type  Stock  Quantity Sold  Cost of Goods Sold  Sale Price  \\\n",
       "0       Iced Tea  Cold     15              6                   7          13   \n",
       "1  Hot Chocolate   Hot     15              9                  10          20   \n",
       "2       Lemonade  Cold     15             13                   6          11   \n",
       "3         Coffee   Hot     15             11                   8          15   \n",
       "4      Milkshake  Cold     15              8                   9          19   \n",
       "5            Tea   Hot     15              6                   7          14   \n",
       "6       Smoothie  Cold     15             14                  10          17   \n",
       "7           Soda   Hot     15             10                  11          18   \n",
       "8  Protein Shake  Cold     15              8                   8          20   \n",
       "9   Matcha Latte   Hot     15             10                   9          12   \n",
       "\n",
       "   Rating  Total Revenue  Gross Profit  \n",
       "0       1             78            36  \n",
       "1       3            180            90  \n",
       "2       5            143            65  \n",
       "3       4            165            77  \n",
       "4       3            152            80  \n",
       "5       2             84            42  \n",
       "6       5            238            98  \n",
       "7       3            180            70  \n",
       "8       3            160            96  \n",
       "9       3            120            30  "
      ]
     },
     "execution_count": 142,
     "metadata": {},
     "output_type": "execute_result"
    }
   ],
   "source": [
    "sales_df"
   ]
  },
  {
   "cell_type": "code",
   "execution_count": null,
   "metadata": {},
   "outputs": [
    {
     "data": {
      "text/html": [
       "<div>\n",
       "<style scoped>\n",
       "    .dataframe tbody tr th:only-of-type {\n",
       "        vertical-align: middle;\n",
       "    }\n",
       "\n",
       "    .dataframe tbody tr th {\n",
       "        vertical-align: top;\n",
       "    }\n",
       "\n",
       "    .dataframe thead th {\n",
       "        text-align: right;\n",
       "    }\n",
       "</style>\n",
       "<table border=\"1\" class=\"dataframe\">\n",
       "  <thead>\n",
       "    <tr style=\"text-align: right;\">\n",
       "      <th></th>\n",
       "      <th>Product Name</th>\n",
       "      <th>Type</th>\n",
       "      <th>Stock</th>\n",
       "      <th>Quantity Sold</th>\n",
       "      <th>Cost of Goods Sold</th>\n",
       "      <th>Sale Price</th>\n",
       "      <th>Rating</th>\n",
       "      <th>Total Revenue</th>\n",
       "      <th>Gross Profit</th>\n",
       "      <th>10% Discounted Price</th>\n",
       "    </tr>\n",
       "  </thead>\n",
       "  <tbody>\n",
       "    <tr>\n",
       "      <th>0</th>\n",
       "      <td>Iced Tea</td>\n",
       "      <td>Cold</td>\n",
       "      <td>15</td>\n",
       "      <td>6</td>\n",
       "      <td>7</td>\n",
       "      <td>13</td>\n",
       "      <td>1</td>\n",
       "      <td>78</td>\n",
       "      <td>36</td>\n",
       "      <td>11.7</td>\n",
       "    </tr>\n",
       "    <tr>\n",
       "      <th>1</th>\n",
       "      <td>Hot Chocolate</td>\n",
       "      <td>Hot</td>\n",
       "      <td>15</td>\n",
       "      <td>9</td>\n",
       "      <td>10</td>\n",
       "      <td>20</td>\n",
       "      <td>3</td>\n",
       "      <td>180</td>\n",
       "      <td>90</td>\n",
       "      <td>18.0</td>\n",
       "    </tr>\n",
       "    <tr>\n",
       "      <th>2</th>\n",
       "      <td>Lemonade</td>\n",
       "      <td>Cold</td>\n",
       "      <td>15</td>\n",
       "      <td>13</td>\n",
       "      <td>6</td>\n",
       "      <td>11</td>\n",
       "      <td>5</td>\n",
       "      <td>143</td>\n",
       "      <td>65</td>\n",
       "      <td>9.9</td>\n",
       "    </tr>\n",
       "    <tr>\n",
       "      <th>3</th>\n",
       "      <td>Coffee</td>\n",
       "      <td>Hot</td>\n",
       "      <td>15</td>\n",
       "      <td>11</td>\n",
       "      <td>8</td>\n",
       "      <td>15</td>\n",
       "      <td>4</td>\n",
       "      <td>165</td>\n",
       "      <td>77</td>\n",
       "      <td>13.5</td>\n",
       "    </tr>\n",
       "    <tr>\n",
       "      <th>4</th>\n",
       "      <td>Milkshake</td>\n",
       "      <td>Cold</td>\n",
       "      <td>15</td>\n",
       "      <td>8</td>\n",
       "      <td>9</td>\n",
       "      <td>19</td>\n",
       "      <td>3</td>\n",
       "      <td>152</td>\n",
       "      <td>80</td>\n",
       "      <td>17.1</td>\n",
       "    </tr>\n",
       "    <tr>\n",
       "      <th>5</th>\n",
       "      <td>Tea</td>\n",
       "      <td>Hot</td>\n",
       "      <td>15</td>\n",
       "      <td>6</td>\n",
       "      <td>7</td>\n",
       "      <td>14</td>\n",
       "      <td>2</td>\n",
       "      <td>84</td>\n",
       "      <td>42</td>\n",
       "      <td>12.6</td>\n",
       "    </tr>\n",
       "    <tr>\n",
       "      <th>6</th>\n",
       "      <td>Smoothie</td>\n",
       "      <td>Cold</td>\n",
       "      <td>15</td>\n",
       "      <td>14</td>\n",
       "      <td>10</td>\n",
       "      <td>17</td>\n",
       "      <td>5</td>\n",
       "      <td>238</td>\n",
       "      <td>98</td>\n",
       "      <td>15.3</td>\n",
       "    </tr>\n",
       "    <tr>\n",
       "      <th>7</th>\n",
       "      <td>Soda</td>\n",
       "      <td>Hot</td>\n",
       "      <td>15</td>\n",
       "      <td>10</td>\n",
       "      <td>11</td>\n",
       "      <td>18</td>\n",
       "      <td>3</td>\n",
       "      <td>180</td>\n",
       "      <td>70</td>\n",
       "      <td>16.2</td>\n",
       "    </tr>\n",
       "    <tr>\n",
       "      <th>8</th>\n",
       "      <td>Protein Shake</td>\n",
       "      <td>Cold</td>\n",
       "      <td>15</td>\n",
       "      <td>8</td>\n",
       "      <td>8</td>\n",
       "      <td>20</td>\n",
       "      <td>3</td>\n",
       "      <td>160</td>\n",
       "      <td>96</td>\n",
       "      <td>18.0</td>\n",
       "    </tr>\n",
       "    <tr>\n",
       "      <th>9</th>\n",
       "      <td>Matcha Latte</td>\n",
       "      <td>Hot</td>\n",
       "      <td>15</td>\n",
       "      <td>10</td>\n",
       "      <td>9</td>\n",
       "      <td>12</td>\n",
       "      <td>3</td>\n",
       "      <td>120</td>\n",
       "      <td>30</td>\n",
       "      <td>10.8</td>\n",
       "    </tr>\n",
       "  </tbody>\n",
       "</table>\n",
       "</div>"
      ],
      "text/plain": [
       "    Product Name  Type  Stock  Quantity Sold  Cost of Goods Sold  Sale Price  \\\n",
       "0       Iced Tea  Cold     15              6                   7          13   \n",
       "1  Hot Chocolate   Hot     15              9                  10          20   \n",
       "2       Lemonade  Cold     15             13                   6          11   \n",
       "3         Coffee   Hot     15             11                   8          15   \n",
       "4      Milkshake  Cold     15              8                   9          19   \n",
       "5            Tea   Hot     15              6                   7          14   \n",
       "6       Smoothie  Cold     15             14                  10          17   \n",
       "7           Soda   Hot     15             10                  11          18   \n",
       "8  Protein Shake  Cold     15              8                   8          20   \n",
       "9   Matcha Latte   Hot     15             10                   9          12   \n",
       "\n",
       "   Rating  Total Revenue  Gross Profit  10% Discounted Price  \n",
       "0       1             78            36                  11.7  \n",
       "1       3            180            90                  18.0  \n",
       "2       5            143            65                   9.9  \n",
       "3       4            165            77                  13.5  \n",
       "4       3            152            80                  17.1  \n",
       "5       2             84            42                  12.6  \n",
       "6       5            238            98                  15.3  \n",
       "7       3            180            70                  16.2  \n",
       "8       3            160            96                  18.0  \n",
       "9       3            120            30                  10.8  "
      ]
     },
     "execution_count": 145,
     "metadata": {},
     "output_type": "execute_result"
    }
   ],
   "source": [
    "def discount(original_price): \n",
    "    discount_rate = 0.1 # discount 10% = 0.10\n",
    "    discount_amount = original_price * discount_rate\n",
    "    discounted_price = original_price - discount_amount\n",
    "    return discounted_price\n",
    "# Sale Price will be sent to original_price in function\n",
    "\n",
    "sales_df[\"10% Discounted Price\"]= sales_df[\"Sale Price\"].apply(discount)\n",
    "sales_df\n"
   ]
  },
  {
   "cell_type": "code",
   "execution_count": 147,
   "metadata": {},
   "outputs": [
    {
     "data": {
      "text/plain": [
       "0    11.7\n",
       "1    18.0\n",
       "2     9.9\n",
       "3    13.5\n",
       "4    17.1\n",
       "5    12.6\n",
       "6    15.3\n",
       "7    16.2\n",
       "8    18.0\n",
       "9    10.8\n",
       "Name: Sale Price, dtype: float64"
      ]
     },
     "execution_count": 147,
     "metadata": {},
     "output_type": "execute_result"
    }
   ],
   "source": [
    "# Note:\n",
    "sales_df[\"Sale Price\"].apply(discount)"
   ]
  },
  {
   "cell_type": "markdown",
   "metadata": {},
   "source": [
    "## Pandas Operators\n",
    "Data Analysis:\n",
    "\n",
    "- sum(): Calculates the sum of a Series or DataFrame\n",
    "- mean(): Calculates the mean of a Series or DataFrame\n",
    "- median(): Calculates the median of a Series or DataFrame\n",
    "- std(): Calculates the standard deviation of a Series or DataFrame\n",
    "- var(): Calculates the variance of a Series or DataFrame\n",
    "\n",
    "Data Loading and Exploration:\n",
    "\n",
    "- head(): Shows the first few rows of a DataFrame\n",
    "- tail(): Shows the last few rows of a DataFrame\n",
    "- info(): Displays information about the DataFrame, including data types and memory usage\n",
    "- describe(): Generates summary statistics for each column (mean, standard deviation, etc.)"
   ]
  },
  {
   "cell_type": "code",
   "execution_count": 150,
   "metadata": {},
   "outputs": [
    {
     "data": {
      "text/plain": [
       "np.int64(1500)"
      ]
     },
     "execution_count": 150,
     "metadata": {},
     "output_type": "execute_result"
    }
   ],
   "source": [
    "sales_df[\"Total Revenue\"].sum()"
   ]
  },
  {
   "cell_type": "code",
   "execution_count": 151,
   "metadata": {},
   "outputs": [
    {
     "name": "stdout",
     "output_type": "stream",
     "text": [
      "Sum of Total Revenue: 1500\n"
     ]
    }
   ],
   "source": [
    "# If you don't want to see \"np.int64(1500)\"\n",
    "print(\"Sum of Total Revenue:\", sales_df[\"Total Revenue\"].sum())"
   ]
  },
  {
   "cell_type": "code",
   "execution_count": 153,
   "metadata": {},
   "outputs": [
    {
     "name": "stdout",
     "output_type": "stream",
     "text": [
      "Average of Total Revenue: 150.0\n"
     ]
    }
   ],
   "source": [
    "print(\"Average of Total Revenue:\", sales_df[\"Total Revenue\"].mean()) # divide by 10 (number)"
   ]
  },
  {
   "cell_type": "code",
   "execution_count": null,
   "metadata": {},
   "outputs": [
    {
     "name": "stdout",
     "output_type": "stream",
     "text": [
      "[238, 180, 180, 165, 160, 152, 143, 120, 84, 78]\n"
     ]
    }
   ],
   "source": [
    "total_revenue_list = sales_df[\"Total Revenue\"].tolist()\n",
    "total_revenue_list.sort(reverse=True) # In Desending order\n",
    "print(total_revenue_list)"
   ]
  },
  {
   "cell_type": "code",
   "execution_count": null,
   "metadata": {},
   "outputs": [
    {
     "name": "stdout",
     "output_type": "stream",
     "text": [
      "[78, 84, 120, 143, 152, 160, 165, 180, 180, 238]\n"
     ]
    }
   ],
   "source": [
    "total_revenue_list = sales_df[\"Total Revenue\"].tolist()\n",
    "total_revenue_list.sort() # Auto Ascending\n",
    "print(total_revenue_list)"
   ]
  },
  {
   "cell_type": "markdown",
   "metadata": {},
   "source": [
    "Make sure to arrange them in asc first\n",
    "\n",
    "Median = (152 + 160)/2 <br>\n",
    "        = 156 "
   ]
  },
  {
   "cell_type": "code",
   "execution_count": 156,
   "metadata": {},
   "outputs": [
    {
     "name": "stdout",
     "output_type": "stream",
     "text": [
      "Median of Total Revenue: 156.0\n"
     ]
    }
   ],
   "source": [
    "print(\"Median of Total Revenue:\", sales_df[\"Total Revenue\"].median())"
   ]
  },
  {
   "attachments": {
    "image.png": {
     "image/png": "[encoded data removed]"
    }
   },
   "cell_type": "markdown",
   "metadata": {},
   "source": [
    "Standard deviation <br>\n",
    "![image.png](attachment:image.png)"
   ]
  },
  {
   "attachments": {
    "image.png": {
     "image/png": "[encoded data removed]"
    }
   },
   "cell_type": "markdown",
   "metadata": {},
   "source": [
    "![image.png](attachment:image.png)"
   ]
  },
  {
   "cell_type": "markdown",
   "metadata": {},
   "source": [
    "Imagine you get a different number of likes on your fb story each day, and you want to know how much the number of likes on your fb story changes from day to day.\n",
    "\n",
    "it pretty sums up std in simple terms\n",
    "\n",
    "if everyday is mostly similar = curve spread is small hence, low std\n",
    "\n",
    "high std is the opposite"
   ]
  },
  {
   "cell_type": "code",
   "execution_count": 158,
   "metadata": {},
   "outputs": [
    {
     "name": "stdout",
     "output_type": "stream",
     "text": [
      "Standard Deviation for Rating: 1.2292725943057183\n"
     ]
    }
   ],
   "source": [
    "print(\"Standard Deviation for Rating:\", sales_df[\"Rating\"].std())"
   ]
  },
  {
   "cell_type": "code",
   "execution_count": 159,
   "metadata": {},
   "outputs": [
    {
     "name": "stdout",
     "output_type": "stream",
     "text": [
      "Variance for Rating: 1.5111111111111113\n"
     ]
    }
   ],
   "source": [
    "print(\"Variance for Rating:\", sales_df[\"Rating\"].var())"
   ]
  },
  {
   "cell_type": "markdown",
   "metadata": {},
   "source": [
    "Variance = std dev <sup>2</sup> = 1.5\n",
    "\n",
    "1.23 <sup>2</sup> = 1.5"
   ]
  },
  {
   "cell_type": "code",
   "execution_count": 160,
   "metadata": {},
   "outputs": [
    {
     "data": {
      "text/html": [
       "<div>\n",
       "<style scoped>\n",
       "    .dataframe tbody tr th:only-of-type {\n",
       "        vertical-align: middle;\n",
       "    }\n",
       "\n",
       "    .dataframe tbody tr th {\n",
       "        vertical-align: top;\n",
       "    }\n",
       "\n",
       "    .dataframe thead th {\n",
       "        text-align: right;\n",
       "    }\n",
       "</style>\n",
       "<table border=\"1\" class=\"dataframe\">\n",
       "  <thead>\n",
       "    <tr style=\"text-align: right;\">\n",
       "      <th></th>\n",
       "      <th>Product Name</th>\n",
       "      <th>Type</th>\n",
       "      <th>Stock</th>\n",
       "      <th>Quantity Sold</th>\n",
       "      <th>Cost of Goods Sold</th>\n",
       "      <th>Sale Price</th>\n",
       "      <th>Rating</th>\n",
       "      <th>Total Revenue</th>\n",
       "      <th>Gross Profit</th>\n",
       "      <th>10% Discounted Price</th>\n",
       "    </tr>\n",
       "  </thead>\n",
       "  <tbody>\n",
       "    <tr>\n",
       "      <th>0</th>\n",
       "      <td>Iced Tea</td>\n",
       "      <td>Cold</td>\n",
       "      <td>15</td>\n",
       "      <td>6</td>\n",
       "      <td>7</td>\n",
       "      <td>13</td>\n",
       "      <td>1</td>\n",
       "      <td>78</td>\n",
       "      <td>36</td>\n",
       "      <td>11.7</td>\n",
       "    </tr>\n",
       "    <tr>\n",
       "      <th>1</th>\n",
       "      <td>Hot Chocolate</td>\n",
       "      <td>Hot</td>\n",
       "      <td>15</td>\n",
       "      <td>9</td>\n",
       "      <td>10</td>\n",
       "      <td>20</td>\n",
       "      <td>3</td>\n",
       "      <td>180</td>\n",
       "      <td>90</td>\n",
       "      <td>18.0</td>\n",
       "    </tr>\n",
       "    <tr>\n",
       "      <th>2</th>\n",
       "      <td>Lemonade</td>\n",
       "      <td>Cold</td>\n",
       "      <td>15</td>\n",
       "      <td>13</td>\n",
       "      <td>6</td>\n",
       "      <td>11</td>\n",
       "      <td>5</td>\n",
       "      <td>143</td>\n",
       "      <td>65</td>\n",
       "      <td>9.9</td>\n",
       "    </tr>\n",
       "  </tbody>\n",
       "</table>\n",
       "</div>"
      ],
      "text/plain": [
       "    Product Name  Type  Stock  Quantity Sold  Cost of Goods Sold  Sale Price  \\\n",
       "0       Iced Tea  Cold     15              6                   7          13   \n",
       "1  Hot Chocolate   Hot     15              9                  10          20   \n",
       "2       Lemonade  Cold     15             13                   6          11   \n",
       "\n",
       "   Rating  Total Revenue  Gross Profit  10% Discounted Price  \n",
       "0       1             78            36                  11.7  \n",
       "1       3            180            90                  18.0  \n",
       "2       5            143            65                   9.9  "
      ]
     },
     "execution_count": 160,
     "metadata": {},
     "output_type": "execute_result"
    }
   ],
   "source": [
    "# First 5 rows by default.\n",
    "sales_df.head()\n",
    "sales_df.head(3)"
   ]
  },
  {
   "cell_type": "code",
   "execution_count": 161,
   "metadata": {},
   "outputs": [
    {
     "data": {
      "text/html": [
       "<div>\n",
       "<style scoped>\n",
       "    .dataframe tbody tr th:only-of-type {\n",
       "        vertical-align: middle;\n",
       "    }\n",
       "\n",
       "    .dataframe tbody tr th {\n",
       "        vertical-align: top;\n",
       "    }\n",
       "\n",
       "    .dataframe thead th {\n",
       "        text-align: right;\n",
       "    }\n",
       "</style>\n",
       "<table border=\"1\" class=\"dataframe\">\n",
       "  <thead>\n",
       "    <tr style=\"text-align: right;\">\n",
       "      <th></th>\n",
       "      <th>Product Name</th>\n",
       "      <th>Type</th>\n",
       "      <th>Stock</th>\n",
       "      <th>Quantity Sold</th>\n",
       "      <th>Cost of Goods Sold</th>\n",
       "      <th>Sale Price</th>\n",
       "      <th>Rating</th>\n",
       "      <th>Total Revenue</th>\n",
       "      <th>Gross Profit</th>\n",
       "      <th>10% Discounted Price</th>\n",
       "    </tr>\n",
       "  </thead>\n",
       "  <tbody>\n",
       "    <tr>\n",
       "      <th>7</th>\n",
       "      <td>Soda</td>\n",
       "      <td>Hot</td>\n",
       "      <td>15</td>\n",
       "      <td>10</td>\n",
       "      <td>11</td>\n",
       "      <td>18</td>\n",
       "      <td>3</td>\n",
       "      <td>180</td>\n",
       "      <td>70</td>\n",
       "      <td>16.2</td>\n",
       "    </tr>\n",
       "    <tr>\n",
       "      <th>8</th>\n",
       "      <td>Protein Shake</td>\n",
       "      <td>Cold</td>\n",
       "      <td>15</td>\n",
       "      <td>8</td>\n",
       "      <td>8</td>\n",
       "      <td>20</td>\n",
       "      <td>3</td>\n",
       "      <td>160</td>\n",
       "      <td>96</td>\n",
       "      <td>18.0</td>\n",
       "    </tr>\n",
       "    <tr>\n",
       "      <th>9</th>\n",
       "      <td>Matcha Latte</td>\n",
       "      <td>Hot</td>\n",
       "      <td>15</td>\n",
       "      <td>10</td>\n",
       "      <td>9</td>\n",
       "      <td>12</td>\n",
       "      <td>3</td>\n",
       "      <td>120</td>\n",
       "      <td>30</td>\n",
       "      <td>10.8</td>\n",
       "    </tr>\n",
       "  </tbody>\n",
       "</table>\n",
       "</div>"
      ],
      "text/plain": [
       "    Product Name  Type  Stock  Quantity Sold  Cost of Goods Sold  Sale Price  \\\n",
       "7           Soda   Hot     15             10                  11          18   \n",
       "8  Protein Shake  Cold     15              8                   8          20   \n",
       "9   Matcha Latte   Hot     15             10                   9          12   \n",
       "\n",
       "   Rating  Total Revenue  Gross Profit  10% Discounted Price  \n",
       "7       3            180            70                  16.2  \n",
       "8       3            160            96                  18.0  \n",
       "9       3            120            30                  10.8  "
      ]
     },
     "execution_count": 161,
     "metadata": {},
     "output_type": "execute_result"
    }
   ],
   "source": [
    "# Last 5 rows by default.\n",
    "sales_df.tail()\n",
    "sales_df.tail(3)"
   ]
  },
  {
   "cell_type": "code",
   "execution_count": 162,
   "metadata": {},
   "outputs": [
    {
     "name": "stdout",
     "output_type": "stream",
     "text": [
      "<class 'pandas.core.frame.DataFrame'>\n",
      "RangeIndex: 10 entries, 0 to 9\n",
      "Data columns (total 10 columns):\n",
      " #   Column                Non-Null Count  Dtype  \n",
      "---  ------                --------------  -----  \n",
      " 0   Product Name          10 non-null     object \n",
      " 1   Type                  10 non-null     object \n",
      " 2   Stock                 10 non-null     int64  \n",
      " 3   Quantity Sold         10 non-null     int64  \n",
      " 4   Cost of Goods Sold    10 non-null     int64  \n",
      " 5   Sale Price            10 non-null     int64  \n",
      " 6   Rating                10 non-null     int64  \n",
      " 7   Total Revenue         10 non-null     int64  \n",
      " 8   Gross Profit          10 non-null     int64  \n",
      " 9   10% Discounted Price  10 non-null     float64\n",
      "dtypes: float64(1), int64(7), object(2)\n",
      "memory usage: 932.0+ bytes\n"
     ]
    }
   ],
   "source": [
    "sales_df.info()"
   ]
  },
  {
   "cell_type": "code",
   "execution_count": 163,
   "metadata": {},
   "outputs": [
    {
     "data": {
      "text/html": [
       "<div>\n",
       "<style scoped>\n",
       "    .dataframe tbody tr th:only-of-type {\n",
       "        vertical-align: middle;\n",
       "    }\n",
       "\n",
       "    .dataframe tbody tr th {\n",
       "        vertical-align: top;\n",
       "    }\n",
       "\n",
       "    .dataframe thead th {\n",
       "        text-align: right;\n",
       "    }\n",
       "</style>\n",
       "<table border=\"1\" class=\"dataframe\">\n",
       "  <thead>\n",
       "    <tr style=\"text-align: right;\">\n",
       "      <th></th>\n",
       "      <th>Stock</th>\n",
       "      <th>Quantity Sold</th>\n",
       "      <th>Cost of Goods Sold</th>\n",
       "      <th>Sale Price</th>\n",
       "      <th>Rating</th>\n",
       "      <th>Total Revenue</th>\n",
       "      <th>Gross Profit</th>\n",
       "      <th>10% Discounted Price</th>\n",
       "    </tr>\n",
       "  </thead>\n",
       "  <tbody>\n",
       "    <tr>\n",
       "      <th>count</th>\n",
       "      <td>10.0</td>\n",
       "      <td>10.000000</td>\n",
       "      <td>10.000000</td>\n",
       "      <td>10.0000</td>\n",
       "      <td>10.000000</td>\n",
       "      <td>10.00000</td>\n",
       "      <td>10.000000</td>\n",
       "      <td>10.00000</td>\n",
       "    </tr>\n",
       "    <tr>\n",
       "      <th>mean</th>\n",
       "      <td>15.0</td>\n",
       "      <td>9.500000</td>\n",
       "      <td>8.500000</td>\n",
       "      <td>15.9000</td>\n",
       "      <td>3.200000</td>\n",
       "      <td>150.00000</td>\n",
       "      <td>68.400000</td>\n",
       "      <td>14.31000</td>\n",
       "    </tr>\n",
       "    <tr>\n",
       "      <th>std</th>\n",
       "      <td>0.0</td>\n",
       "      <td>2.677063</td>\n",
       "      <td>1.581139</td>\n",
       "      <td>3.3483</td>\n",
       "      <td>1.229273</td>\n",
       "      <td>47.56516</td>\n",
       "      <td>24.829194</td>\n",
       "      <td>3.01347</td>\n",
       "    </tr>\n",
       "    <tr>\n",
       "      <th>min</th>\n",
       "      <td>15.0</td>\n",
       "      <td>6.000000</td>\n",
       "      <td>6.000000</td>\n",
       "      <td>11.0000</td>\n",
       "      <td>1.000000</td>\n",
       "      <td>78.00000</td>\n",
       "      <td>30.000000</td>\n",
       "      <td>9.90000</td>\n",
       "    </tr>\n",
       "    <tr>\n",
       "      <th>25%</th>\n",
       "      <td>15.0</td>\n",
       "      <td>8.000000</td>\n",
       "      <td>7.250000</td>\n",
       "      <td>13.2500</td>\n",
       "      <td>3.000000</td>\n",
       "      <td>125.75000</td>\n",
       "      <td>47.750000</td>\n",
       "      <td>11.92500</td>\n",
       "    </tr>\n",
       "    <tr>\n",
       "      <th>50%</th>\n",
       "      <td>15.0</td>\n",
       "      <td>9.500000</td>\n",
       "      <td>8.500000</td>\n",
       "      <td>16.0000</td>\n",
       "      <td>3.000000</td>\n",
       "      <td>156.00000</td>\n",
       "      <td>73.500000</td>\n",
       "      <td>14.40000</td>\n",
       "    </tr>\n",
       "    <tr>\n",
       "      <th>75%</th>\n",
       "      <td>15.0</td>\n",
       "      <td>10.750000</td>\n",
       "      <td>9.750000</td>\n",
       "      <td>18.7500</td>\n",
       "      <td>3.750000</td>\n",
       "      <td>176.25000</td>\n",
       "      <td>87.500000</td>\n",
       "      <td>16.87500</td>\n",
       "    </tr>\n",
       "    <tr>\n",
       "      <th>max</th>\n",
       "      <td>15.0</td>\n",
       "      <td>14.000000</td>\n",
       "      <td>11.000000</td>\n",
       "      <td>20.0000</td>\n",
       "      <td>5.000000</td>\n",
       "      <td>238.00000</td>\n",
       "      <td>98.000000</td>\n",
       "      <td>18.00000</td>\n",
       "    </tr>\n",
       "  </tbody>\n",
       "</table>\n",
       "</div>"
      ],
      "text/plain": [
       "       Stock  Quantity Sold  Cost of Goods Sold  Sale Price     Rating  \\\n",
       "count   10.0      10.000000           10.000000     10.0000  10.000000   \n",
       "mean    15.0       9.500000            8.500000     15.9000   3.200000   \n",
       "std      0.0       2.677063            1.581139      3.3483   1.229273   \n",
       "min     15.0       6.000000            6.000000     11.0000   1.000000   \n",
       "25%     15.0       8.000000            7.250000     13.2500   3.000000   \n",
       "50%     15.0       9.500000            8.500000     16.0000   3.000000   \n",
       "75%     15.0      10.750000            9.750000     18.7500   3.750000   \n",
       "max     15.0      14.000000           11.000000     20.0000   5.000000   \n",
       "\n",
       "       Total Revenue  Gross Profit  10% Discounted Price  \n",
       "count       10.00000     10.000000              10.00000  \n",
       "mean       150.00000     68.400000              14.31000  \n",
       "std         47.56516     24.829194               3.01347  \n",
       "min         78.00000     30.000000               9.90000  \n",
       "25%        125.75000     47.750000              11.92500  \n",
       "50%        156.00000     73.500000              14.40000  \n",
       "75%        176.25000     87.500000              16.87500  \n",
       "max        238.00000     98.000000              18.00000  "
      ]
     },
     "execution_count": 163,
     "metadata": {},
     "output_type": "execute_result"
    }
   ],
   "source": [
    "sales_df.describe()"
   ]
  },
  {
   "cell_type": "markdown",
   "metadata": {},
   "source": [
    "### **Aggregating Data** (.groupby)\n",
    "\n",
    "Aggregating data involves summarizing data points into meaningful statistics, \n",
    "such as averages, sums, or counts, which can be achieved using GroupBy operations or pivot tables. \n",
    "This helps in understanding the dataset at a higher level."
   ]
  },
  {
   "cell_type": "code",
   "execution_count": 164,
   "metadata": {},
   "outputs": [
    {
     "data": {
      "text/html": [
       "<div>\n",
       "<style scoped>\n",
       "    .dataframe tbody tr th:only-of-type {\n",
       "        vertical-align: middle;\n",
       "    }\n",
       "\n",
       "    .dataframe tbody tr th {\n",
       "        vertical-align: top;\n",
       "    }\n",
       "\n",
       "    .dataframe thead th {\n",
       "        text-align: right;\n",
       "    }\n",
       "</style>\n",
       "<table border=\"1\" class=\"dataframe\">\n",
       "  <thead>\n",
       "    <tr style=\"text-align: right;\">\n",
       "      <th></th>\n",
       "      <th>Product Name</th>\n",
       "      <th>Type</th>\n",
       "      <th>Stock</th>\n",
       "      <th>Quantity Sold</th>\n",
       "      <th>Cost of Goods Sold</th>\n",
       "      <th>Sale Price</th>\n",
       "      <th>Rating</th>\n",
       "      <th>Total Revenue</th>\n",
       "      <th>Gross Profit</th>\n",
       "      <th>10% Discounted Price</th>\n",
       "    </tr>\n",
       "  </thead>\n",
       "  <tbody>\n",
       "    <tr>\n",
       "      <th>0</th>\n",
       "      <td>Iced Tea</td>\n",
       "      <td>Cold</td>\n",
       "      <td>15</td>\n",
       "      <td>6</td>\n",
       "      <td>7</td>\n",
       "      <td>13</td>\n",
       "      <td>1</td>\n",
       "      <td>78</td>\n",
       "      <td>36</td>\n",
       "      <td>11.7</td>\n",
       "    </tr>\n",
       "    <tr>\n",
       "      <th>1</th>\n",
       "      <td>Hot Chocolate</td>\n",
       "      <td>Hot</td>\n",
       "      <td>15</td>\n",
       "      <td>9</td>\n",
       "      <td>10</td>\n",
       "      <td>20</td>\n",
       "      <td>3</td>\n",
       "      <td>180</td>\n",
       "      <td>90</td>\n",
       "      <td>18.0</td>\n",
       "    </tr>\n",
       "    <tr>\n",
       "      <th>2</th>\n",
       "      <td>Lemonade</td>\n",
       "      <td>Cold</td>\n",
       "      <td>15</td>\n",
       "      <td>13</td>\n",
       "      <td>6</td>\n",
       "      <td>11</td>\n",
       "      <td>5</td>\n",
       "      <td>143</td>\n",
       "      <td>65</td>\n",
       "      <td>9.9</td>\n",
       "    </tr>\n",
       "    <tr>\n",
       "      <th>3</th>\n",
       "      <td>Coffee</td>\n",
       "      <td>Hot</td>\n",
       "      <td>15</td>\n",
       "      <td>11</td>\n",
       "      <td>8</td>\n",
       "      <td>15</td>\n",
       "      <td>4</td>\n",
       "      <td>165</td>\n",
       "      <td>77</td>\n",
       "      <td>13.5</td>\n",
       "    </tr>\n",
       "    <tr>\n",
       "      <th>4</th>\n",
       "      <td>Milkshake</td>\n",
       "      <td>Cold</td>\n",
       "      <td>15</td>\n",
       "      <td>8</td>\n",
       "      <td>9</td>\n",
       "      <td>19</td>\n",
       "      <td>3</td>\n",
       "      <td>152</td>\n",
       "      <td>80</td>\n",
       "      <td>17.1</td>\n",
       "    </tr>\n",
       "    <tr>\n",
       "      <th>5</th>\n",
       "      <td>Tea</td>\n",
       "      <td>Hot</td>\n",
       "      <td>15</td>\n",
       "      <td>6</td>\n",
       "      <td>7</td>\n",
       "      <td>14</td>\n",
       "      <td>2</td>\n",
       "      <td>84</td>\n",
       "      <td>42</td>\n",
       "      <td>12.6</td>\n",
       "    </tr>\n",
       "    <tr>\n",
       "      <th>6</th>\n",
       "      <td>Smoothie</td>\n",
       "      <td>Cold</td>\n",
       "      <td>15</td>\n",
       "      <td>14</td>\n",
       "      <td>10</td>\n",
       "      <td>17</td>\n",
       "      <td>5</td>\n",
       "      <td>238</td>\n",
       "      <td>98</td>\n",
       "      <td>15.3</td>\n",
       "    </tr>\n",
       "    <tr>\n",
       "      <th>7</th>\n",
       "      <td>Soda</td>\n",
       "      <td>Hot</td>\n",
       "      <td>15</td>\n",
       "      <td>10</td>\n",
       "      <td>11</td>\n",
       "      <td>18</td>\n",
       "      <td>3</td>\n",
       "      <td>180</td>\n",
       "      <td>70</td>\n",
       "      <td>16.2</td>\n",
       "    </tr>\n",
       "    <tr>\n",
       "      <th>8</th>\n",
       "      <td>Protein Shake</td>\n",
       "      <td>Cold</td>\n",
       "      <td>15</td>\n",
       "      <td>8</td>\n",
       "      <td>8</td>\n",
       "      <td>20</td>\n",
       "      <td>3</td>\n",
       "      <td>160</td>\n",
       "      <td>96</td>\n",
       "      <td>18.0</td>\n",
       "    </tr>\n",
       "    <tr>\n",
       "      <th>9</th>\n",
       "      <td>Matcha Latte</td>\n",
       "      <td>Hot</td>\n",
       "      <td>15</td>\n",
       "      <td>10</td>\n",
       "      <td>9</td>\n",
       "      <td>12</td>\n",
       "      <td>3</td>\n",
       "      <td>120</td>\n",
       "      <td>30</td>\n",
       "      <td>10.8</td>\n",
       "    </tr>\n",
       "  </tbody>\n",
       "</table>\n",
       "</div>"
      ],
      "text/plain": [
       "    Product Name  Type  Stock  Quantity Sold  Cost of Goods Sold  Sale Price  \\\n",
       "0       Iced Tea  Cold     15              6                   7          13   \n",
       "1  Hot Chocolate   Hot     15              9                  10          20   \n",
       "2       Lemonade  Cold     15             13                   6          11   \n",
       "3         Coffee   Hot     15             11                   8          15   \n",
       "4      Milkshake  Cold     15              8                   9          19   \n",
       "5            Tea   Hot     15              6                   7          14   \n",
       "6       Smoothie  Cold     15             14                  10          17   \n",
       "7           Soda   Hot     15             10                  11          18   \n",
       "8  Protein Shake  Cold     15              8                   8          20   \n",
       "9   Matcha Latte   Hot     15             10                   9          12   \n",
       "\n",
       "   Rating  Total Revenue  Gross Profit  10% Discounted Price  \n",
       "0       1             78            36                  11.7  \n",
       "1       3            180            90                  18.0  \n",
       "2       5            143            65                   9.9  \n",
       "3       4            165            77                  13.5  \n",
       "4       3            152            80                  17.1  \n",
       "5       2             84            42                  12.6  \n",
       "6       5            238            98                  15.3  \n",
       "7       3            180            70                  16.2  \n",
       "8       3            160            96                  18.0  \n",
       "9       3            120            30                  10.8  "
      ]
     },
     "execution_count": 164,
     "metadata": {},
     "output_type": "execute_result"
    }
   ],
   "source": [
    "sales_df"
   ]
  },
  {
   "cell_type": "code",
   "execution_count": 165,
   "metadata": {},
   "outputs": [
    {
     "data": {
      "text/plain": [
       "array(['Cold', 'Hot'], dtype=object)"
      ]
     },
     "execution_count": 165,
     "metadata": {},
     "output_type": "execute_result"
    }
   ],
   "source": [
    "# Get the unique values\n",
    "sales_df[\"Type\"].unique()"
   ]
  },
  {
   "cell_type": "code",
   "execution_count": null,
   "metadata": {},
   "outputs": [
    {
     "name": "stdout",
     "output_type": "stream",
     "text": [
      "<class 'pandas.core.frame.DataFrame'>\n",
      "RangeIndex: 10 entries, 0 to 9\n",
      "Data columns (total 10 columns):\n",
      " #   Column                Non-Null Count  Dtype   \n",
      "---  ------                --------------  -----   \n",
      " 0   Product Name          10 non-null     object  \n",
      " 1   Type                  10 non-null     category\n",
      " 2   Stock                 10 non-null     int64   \n",
      " 3   Quantity Sold         10 non-null     int64   \n",
      " 4   Cost of Goods Sold    10 non-null     int64   \n",
      " 5   Sale Price            10 non-null     int64   \n",
      " 6   Rating                10 non-null     int64   \n",
      " 7   Total Revenue         10 non-null     int64   \n",
      " 8   Gross Profit          10 non-null     int64   \n",
      " 9   10% Discounted Price  10 non-null     float64 \n",
      "dtypes: category(1), float64(1), int64(7), object(1)\n",
      "memory usage: 986.0+ bytes\n"
     ]
    }
   ],
   "source": [
    "# To remove the dtype=object)\"\n",
    "# Change the date type to category\n",
    "sales_df[\"Type\"] = sales_df[\"Type\"].astype(\"category\")\n",
    "sales_df.info()"
   ]
  },
  {
   "cell_type": "code",
   "execution_count": 170,
   "metadata": {},
   "outputs": [
    {
     "name": "stderr",
     "output_type": "stream",
     "text": [
      "C:\\Users\\user\\AppData\\Local\\Temp\\ipykernel_21492\\2580396556.py:1: FutureWarning: The default of observed=False is deprecated and will be changed to True in a future version of pandas. Pass observed=False to retain current behavior or observed=True to adopt the future default and silence this warning.\n",
      "  sales_df.groupby(\"Type\")[\"Total Revenue\"].sum()\n"
     ]
    },
    {
     "data": {
      "text/plain": [
       "Type\n",
       "Cold    771\n",
       "Hot     729\n",
       "Name: Total Revenue, dtype: int64"
      ]
     },
     "execution_count": 170,
     "metadata": {},
     "output_type": "execute_result"
    }
   ],
   "source": [
    "sales_df.groupby(\"Type\")[\"Total Revenue\"].sum()"
   ]
  },
  {
   "cell_type": "code",
   "execution_count": 171,
   "metadata": {},
   "outputs": [
    {
     "name": "stderr",
     "output_type": "stream",
     "text": [
      "C:\\Users\\user\\AppData\\Local\\Temp\\ipykernel_21492\\3853693560.py:3: FutureWarning: The default of observed=False is deprecated and will be changed to True in a future version of pandas. Pass observed=False to retain current behavior or observed=True to adopt the future default and silence this warning.\n",
      "  total_revenue_based_on_type_df[\"Total Revenue\"] = sales_df.groupby(\"Type\")[\"Total Revenue\"].sum()\n"
     ]
    },
    {
     "data": {
      "text/html": [
       "<div>\n",
       "<style scoped>\n",
       "    .dataframe tbody tr th:only-of-type {\n",
       "        vertical-align: middle;\n",
       "    }\n",
       "\n",
       "    .dataframe tbody tr th {\n",
       "        vertical-align: top;\n",
       "    }\n",
       "\n",
       "    .dataframe thead th {\n",
       "        text-align: right;\n",
       "    }\n",
       "</style>\n",
       "<table border=\"1\" class=\"dataframe\">\n",
       "  <thead>\n",
       "    <tr style=\"text-align: right;\">\n",
       "      <th></th>\n",
       "      <th>Total Revenue</th>\n",
       "    </tr>\n",
       "    <tr>\n",
       "      <th>Type</th>\n",
       "      <th></th>\n",
       "    </tr>\n",
       "  </thead>\n",
       "  <tbody>\n",
       "    <tr>\n",
       "      <th>Cold</th>\n",
       "      <td>771</td>\n",
       "    </tr>\n",
       "    <tr>\n",
       "      <th>Hot</th>\n",
       "      <td>729</td>\n",
       "    </tr>\n",
       "  </tbody>\n",
       "</table>\n",
       "</div>"
      ],
      "text/plain": [
       "      Total Revenue\n",
       "Type               \n",
       "Cold            771\n",
       "Hot             729"
      ]
     },
     "execution_count": 171,
     "metadata": {},
     "output_type": "execute_result"
    }
   ],
   "source": [
    "# Create a new DataFrame that contains the total revenue per type of beverage\n",
    "total_revenue_based_on_type_df = pd.DataFrame()\n",
    "total_revenue_based_on_type_df[\"Total Revenue\"] = sales_df.groupby(\"Type\")[\"Total Revenue\"].sum()\n",
    "total_revenue_based_on_type_df"
   ]
  }
 ],
 "metadata": {
  "kernelspec": {
   "display_name": "Python 3",
   "language": "python",
   "name": "python3"
  },
  "language_info": {
   "codemirror_mode": {
    "name": "ipython",
    "version": 3
   },
   "file_extension": ".py",
   "mimetype": "text/x-python",
   "name": "python",
   "nbconvert_exporter": "python",
   "pygments_lexer": "ipython3",
   "version": "3.13.0"
  }
 },
 "nbformat": 4,
 "nbformat_minor": 2
}
