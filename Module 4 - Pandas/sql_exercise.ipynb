{
 "cells": [
  {
   "cell_type": "markdown",
   "metadata": {},
   "source": [
    "# **SQL Exercise**"
   ]
  },
  {
   "cell_type": "markdown",
   "metadata": {},
   "source": [
    "## **Activity 1** \n",
    "\n",
    "Practice performing CRUD operations (Create, Read, Update, Delete) on a database table.\n",
    "\n",
    "### **Perform the following tasks:**"
   ]
  },
  {
   "cell_type": "code",
   "execution_count": 1,
   "metadata": {},
   "outputs": [],
   "source": [
    "import sqlite3 "
   ]
  },
  {
   "cell_type": "markdown",
   "metadata": {},
   "source": [
    "1. Connect to the database `abc_corp.db` and create the cursor."
   ]
  },
  {
   "cell_type": "code",
   "execution_count": 2,
   "metadata": {},
   "outputs": [],
   "source": [
    "conn = sqlite3.connect('abc_corp.db')\n",
    "cursor = conn.cursor()"
   ]
  },
  {
   "cell_type": "code",
   "execution_count": 3,
   "metadata": {},
   "outputs": [],
   "source": [
    "cursor.execute(\"DROP TABLE books;\")\n",
    "conn.commit()"
   ]
  },
  {
   "cell_type": "markdown",
   "metadata": {},
   "source": [
    "2. `Create` a new table named books, with the following columns:\n",
    "  * book_id (primary Key)\n",
    "  * title (Title of the book)\n",
    "  * author (Author of the book)\n",
    "  * genre (Genre of the book)\n",
    "  * publication_year (Year of publication)\n",
    "  * price (Price of the Book)"
   ]
  },
  {
   "cell_type": "code",
   "execution_count": 4,
   "metadata": {},
   "outputs": [],
   "source": [
    "cursor.execute(\"\"\"\n",
    "CREATE TABLE IF NOT EXISTS books (\n",
    "               book_id INT PRIMARY KEY,\n",
    "               title VARCHAR(50) NOT NULL,\n",
    "               author VARCHAR(50) NOT NULL,\n",
    "               genre VARCHAR(50),\n",
    "               publication_year DATE NOT NULL,\n",
    "               price DECIMAL(10, 2) NOT NULL\n",
    ")\n",
    "\"\"\")\n",
    "conn.commit()"
   ]
  },
  {
   "cell_type": "markdown",
   "metadata": {},
   "source": [
    "3. `Insert` at least 5 new books into the books table."
   ]
  },
  {
   "cell_type": "code",
   "execution_count": 5,
   "metadata": {},
   "outputs": [],
   "source": [
    "cursor.execute(\"\"\"\n",
    "                INSERT INTO books (book_id, title, author, genre, publication_year, price) \n",
    "                VALUES (1, \"Omniscient Reader's Viewpoint\", 'Sing-Shong (싱숑)', 'Action, Adventure, Psychological, Sci-fi, Supernatural, Tragedy', 2018, 20.22);\n",
    "\"\"\")\n",
    "cursor.execute(\"\"\"\n",
    "                INSERT INTO books (book_id, title, author, genre, publication_year, price) \n",
    "                VALUES (2, 'To Be a Heartthrob in a Horror Movie', 'Jiang Zhi Yu (姜之鱼)', 'Adventure, Comedy, Horror, Mystery', 2018, 10.00);\n",
    "\"\"\")\n",
    "cursor.execute(\"\"\"\n",
    "                INSERT INTO books (book_id, title, author, genre, publication_year, price) \n",
    "                VALUES (3, 'Number One Lazy Merchant of the Beast World', 'shui shan (水杉)', 'Fantasy, Romance, Sci-fi', 2018, 11.00);\n",
    "\"\"\")\n",
    "cursor.execute(\"\"\"\n",
    "                INSERT INTO books (book_id, title, author, genre, publication_year, price) \n",
    "                VALUES (4, 'The Lost Tomb', 'Nan Pai San Shu (南派三叔)', 'Action, Adventure, Horror, Supernatural ', 2011, 34.00);\n",
    "\"\"\")\n",
    "cursor.execute(\"\"\"\n",
    "                INSERT INTO books (book_id, title, author, genre, publication_year, price) \n",
    "                VALUES (5, 'Solo Leveling', 'Chugong (추공)', 'Action, Adventure, Fantasy, Supernatural', 2016, 24.00);\n",
    "\"\"\")\n",
    "conn.commit()"
   ]
  },
  {
   "cell_type": "markdown",
   "metadata": {},
   "source": [
    "4. `Retrieve` all books from the books table."
   ]
  },
  {
   "cell_type": "code",
   "execution_count": 6,
   "metadata": {},
   "outputs": [
    {
     "data": {
      "text/plain": [
       "[(1,\n",
       "  \"Omniscient Reader's Viewpoint\",\n",
       "  'Sing-Shong (싱숑)',\n",
       "  'Action, Adventure, Psychological, Sci-fi, Supernatural, Tragedy',\n",
       "  2018,\n",
       "  20.22),\n",
       " (2,\n",
       "  'To Be a Heartthrob in a Horror Movie',\n",
       "  'Jiang Zhi Yu (姜之鱼)',\n",
       "  'Adventure, Comedy, Horror, Mystery',\n",
       "  2018,\n",
       "  10),\n",
       " (3,\n",
       "  'Number One Lazy Merchant of the Beast World',\n",
       "  'shui shan (水杉)',\n",
       "  'Fantasy, Romance, Sci-fi',\n",
       "  2018,\n",
       "  11),\n",
       " (4,\n",
       "  'The Lost Tomb',\n",
       "  'Nan Pai San Shu (南派三叔)',\n",
       "  'Action, Adventure, Horror, Supernatural ',\n",
       "  2011,\n",
       "  34),\n",
       " (5,\n",
       "  'Solo Leveling',\n",
       "  'Chugong (추공)',\n",
       "  'Action, Adventure, Fantasy, Supernatural',\n",
       "  2016,\n",
       "  24)]"
      ]
     },
     "execution_count": 6,
     "metadata": {},
     "output_type": "execute_result"
    }
   ],
   "source": [
    "cursor.execute(\"SELECT * FROM books;\")\n",
    "cursor.fetchall()"
   ]
  },
  {
   "cell_type": "markdown",
   "metadata": {},
   "source": [
    "5. `Update` the price of a specific book."
   ]
  },
  {
   "cell_type": "code",
   "execution_count": 7,
   "metadata": {},
   "outputs": [
    {
     "data": {
      "text/plain": [
       "(1,\n",
       " \"Omniscient Reader's Viewpoint\",\n",
       " 'Sing-Shong (싱숑)',\n",
       " 'Action, Adventure, Psychological, Sci-fi, Supernatural, Tragedy',\n",
       " 2018,\n",
       " 15.2)"
      ]
     },
     "execution_count": 7,
     "metadata": {},
     "output_type": "execute_result"
    }
   ],
   "source": [
    "cursor.execute(\"\"\"\n",
    "    UPDATE books SET price = 15.20\n",
    "    WHERE book_id = 1; \n",
    "               \"\"\")\n",
    "conn.commit() # book_id = 1 index 1\n",
    "cursor.execute(\"SELECT * FROM books;\")\n",
    "cursor.fetchone()"
   ]
  },
  {
   "cell_type": "markdown",
   "metadata": {},
   "source": [
    "6. `Delete` a book from the table."
   ]
  },
  {
   "cell_type": "code",
   "execution_count": 8,
   "metadata": {},
   "outputs": [],
   "source": [
    "cursor.execute(\"DELETE FROM books WHERE book_id = 5;\")\n",
    "conn.commit()"
   ]
  },
  {
   "cell_type": "code",
   "execution_count": null,
   "metadata": {},
   "outputs": [
    {
     "data": {
      "text/plain": [
       "[(1,\n",
       "  \"Omniscient Reader's Viewpoint\",\n",
       "  'Sing-Shong (싱숑)',\n",
       "  'Action, Adventure, Psychological, Sci-fi, Supernatural, Tragedy',\n",
       "  2018,\n",
       "  15.2),\n",
       " (2,\n",
       "  'To Be a Heartthrob in a Horror Movie',\n",
       "  'Jiang Zhi Yu (姜之鱼)',\n",
       "  'Adventure, Comedy, Horror, Mystery',\n",
       "  2018,\n",
       "  10),\n",
       " (3,\n",
       "  'Number One Lazy Merchant of the Beast World',\n",
       "  'shui shan (水杉)',\n",
       "  'Fantasy, Romance, Sci-fi',\n",
       "  2018,\n",
       "  11),\n",
       " (4,\n",
       "  'The Lost Tomb',\n",
       "  'Nan Pai San Shu (南派三叔)',\n",
       "  'Action, Adventure, Horror, Supernatural ',\n",
       "  2011,\n",
       "  34)]"
      ]
     },
     "execution_count": 48,
     "metadata": {},
     "output_type": "execute_result"
    }
   ],
   "source": [
    "cursor.execute(\"SELECT * FROM books;\")\n",
    "cursor.fetchall()"
   ]
  },
  {
   "cell_type": "markdown",
   "metadata": {},
   "source": [
    "## **Activity 2** \n",
    "\n",
    "Practice using SQL queries with LIMIT, COUNT, and WHERE Clause along with comparison, logical, and special operators.\n",
    "\n",
    "### **Perform the following tasks:**"
   ]
  },
  {
   "cell_type": "markdown",
   "metadata": {},
   "source": [
    "1. Create a table named `Students` and add these columns:\n",
    "  * **student_id** : This column stores the unique identifier for each student, serving as the primary key of the table.\n",
    "  * **name** : It holds the full name of the student, allowing for the storage of both the first name and last name within a maximum length of 50 characters.\n",
    "  * **age** : This column represents the age of the student in years, stored as an integer value.\n",
    "  * **gender** : It stores the gender of the student, allowing for the classification as either \"Male\" or \"Female\" within a maximum length of 10 characters.\n",
    "  * **grade** : This column holds the grade level of the student, typically represented by a single character such as 'A', 'B', 'C', 'D', indicating academic performance or class standing."
   ]
  },
  {
   "cell_type": "code",
   "execution_count": 9,
   "metadata": {},
   "outputs": [],
   "source": [
    "cursor.execute(\"\"\"\n",
    "CREATE TABLE IF NOT EXISTS Students (\n",
    "               student_id INT PRIMARY KEY,\n",
    "               name VARCHAR(50) NOT NULL,\n",
    "               age INT NOT NULL,\n",
    "               gender VARCHAR(6) NOT NULL,\n",
    "               grade VARCHAR(1) NOT NULL\n",
    ")\n",
    "\"\"\")\n",
    "conn.commit()"
   ]
  },
  {
   "cell_type": "markdown",
   "metadata": {},
   "source": [
    "2. Insert the provided data below into the students table."
   ]
  },
  {
   "cell_type": "markdown",
   "metadata": {},
   "source": [
    "| student_id | name             | age | gender | grade |\n",
    "| ---------- | ---------------- | --- | ------ | ----- |\n",
    "| 1          | John Di          | 18  | Male   | A     |\n",
    "| 2          | Emily Clark      | 17  | Female | B     |\n",
    "| 3          | Michael Santos   | 19  | Male   | C     |\n",
    "| 4          | Sarah Davis      | 16  | Female | A     |\n",
    "| 5          | David Poms       | 18  | Male   | B     |\n",
    "| 6          | Jessica Parker   | 17  | Female | A     |\n",
    "| 7          | Matthew Ross     | 19  | Male   | D     |\n",
    "| 8          | Ashey Lim        | 18  | Female | C     |\n",
    "| 9          | Christopher Chen | 17  | Male   | D     |\n",
    "| 10         | Amanda Hanes     | 16  | Female | B     |"
   ]
  },
  {
   "cell_type": "code",
   "execution_count": 10,
   "metadata": {},
   "outputs": [],
   "source": [
    "cursor.execute(\"\"\"\n",
    "                INSERT INTO Students (student_id, name, age, gender, grade) \n",
    "                VALUES (1, 'John Di', 18, 'Male', 'A');\n",
    "\"\"\")\n",
    "cursor.execute(\"\"\"\n",
    "                INSERT INTO Students (student_id, name, age, gender, grade) \n",
    "                VALUES (2, 'Emily Clark', 17, 'Female', 'B');\n",
    "\"\"\")\n",
    "cursor.execute(\"\"\"\n",
    "                INSERT INTO Students (student_id, name, age, gender, grade) \n",
    "                VALUES (3, 'Micheal Santos', 19, 'Male', 'C');\n",
    "\"\"\")\n",
    "cursor.execute(\"\"\"\n",
    "                INSERT INTO Students (student_id, name, age, gender, grade) \n",
    "                VALUES (4, 'Sarah Davis', 16, 'Female', 'A');\n",
    "\"\"\")\n",
    "cursor.execute(\"\"\"\n",
    "                INSERT INTO Students (student_id, name, age, gender, grade) \n",
    "                VALUES (5, 'David Poms', 18, 'Male', 'B');\n",
    "\"\"\")\n",
    "cursor.execute(\"\"\"\n",
    "                INSERT INTO Students (student_id, name, age, gender, grade) \n",
    "                VALUES (6, 'Jessica Parker', 17, 'Female', 'A');\n",
    "\"\"\")\n",
    "cursor.execute(\"\"\"\n",
    "                INSERT INTO Students (student_id, name, age, gender, grade) \n",
    "                VALUES (7, 'Matthew Ross', 19, 'Male', 'D');\n",
    "\"\"\")\n",
    "cursor.execute(\"\"\"\n",
    "                INSERT INTO Students (student_id, name, age, gender, grade) \n",
    "                VALUES (8, 'Ashey Lim', 18, 'Female', 'C');\n",
    "\"\"\")\n",
    "cursor.execute(\"\"\"\n",
    "                INSERT INTO Students (student_id, name, age, gender, grade) \n",
    "                VALUES (9, 'Christopher Chen', 17, 'Male', 'D');\n",
    "\"\"\")\n",
    "cursor.execute(\"\"\"\n",
    "                INSERT INTO Students (student_id, name, age, gender, grade) \n",
    "                VALUES (10, 'Amanda Hanes', 16, 'Female', 'B');\n",
    "\"\"\")\n",
    "conn.commit()"
   ]
  },
  {
   "cell_type": "markdown",
   "metadata": {},
   "source": [
    "3. Retrieve only the name and grade columns for all students."
   ]
  },
  {
   "cell_type": "code",
   "execution_count": 12,
   "metadata": {},
   "outputs": [
    {
     "data": {
      "text/plain": [
       "[('John Di', 'A'),\n",
       " ('Emily Clark', 'B'),\n",
       " ('Micheal Santos', 'C'),\n",
       " ('Sarah Davis', 'A'),\n",
       " ('David Poms', 'B'),\n",
       " ('Jessica Parker', 'A'),\n",
       " ('Matthew Ross', 'D'),\n",
       " ('Ashey Lim', 'C'),\n",
       " ('Christopher Chen', 'D'),\n",
       " ('Amanda Hanes', 'B')]"
      ]
     },
     "execution_count": 12,
     "metadata": {},
     "output_type": "execute_result"
    }
   ],
   "source": [
    "cursor.execute(\"SELECT name, grade FROM Students;\")\n",
    "cursor.fetchall()"
   ]
  },
  {
   "cell_type": "markdown",
   "metadata": {},
   "source": [
    "4. Retrieve male students older than 18 years old."
   ]
  },
  {
   "cell_type": "code",
   "execution_count": 16,
   "metadata": {},
   "outputs": [
    {
     "data": {
      "text/plain": [
       "[('Micheal Santos', 'Male', 19), ('Matthew Ross', 'Male', 19)]"
      ]
     },
     "execution_count": 16,
     "metadata": {},
     "output_type": "execute_result"
    }
   ],
   "source": [
    "cursor.execute(\"\"\"SELECT name, gender, age FROM Students\n",
    "               WHERE age > 18 AND gender = \"Male\";\n",
    "               \"\"\")\n",
    "cursor.fetchall()"
   ]
  },
  {
   "cell_type": "markdown",
   "metadata": {},
   "source": [
    "5. Retrieve the name and age of students who are older than or equal to 18."
   ]
  },
  {
   "cell_type": "code",
   "execution_count": 18,
   "metadata": {},
   "outputs": [
    {
     "data": {
      "text/plain": [
       "[('John Di', 18),\n",
       " ('Micheal Santos', 19),\n",
       " ('David Poms', 18),\n",
       " ('Matthew Ross', 19),\n",
       " ('Ashey Lim', 18)]"
      ]
     },
     "execution_count": 18,
     "metadata": {},
     "output_type": "execute_result"
    }
   ],
   "source": [
    "cursor.execute(\"\"\"SELECT name, age FROM Students\n",
    "               WHERE age >= 18;\n",
    "               \"\"\")\n",
    "cursor.fetchall()"
   ]
  },
  {
   "cell_type": "markdown",
   "metadata": {},
   "source": [
    "6. Retrieve the name and gender of students who are either 16 years old or have a grade of 'A'."
   ]
  },
  {
   "cell_type": "code",
   "execution_count": 21,
   "metadata": {},
   "outputs": [
    {
     "data": {
      "text/plain": [
       "[('John Di', 'Male', 'A', 18),\n",
       " ('Sarah Davis', 'Female', 'A', 16),\n",
       " ('Jessica Parker', 'Female', 'A', 17),\n",
       " ('Amanda Hanes', 'Female', 'B', 16)]"
      ]
     },
     "execution_count": 21,
     "metadata": {},
     "output_type": "execute_result"
    }
   ],
   "source": [
    "cursor.execute(\"\"\"SELECT name, gender, grade, age FROM Students\n",
    "               WHERE age == 16 OR grade == \"A\";\n",
    "               \"\"\")\n",
    "cursor.fetchall()"
   ]
  },
  {
   "cell_type": "markdown",
   "metadata": {},
   "source": [
    "7. Retrieve the name, age, and grade of female students who are younger than 18."
   ]
  },
  {
   "cell_type": "code",
   "execution_count": 22,
   "metadata": {},
   "outputs": [
    {
     "data": {
      "text/plain": [
       "[('Emily Clark', 17, 'B'),\n",
       " ('Sarah Davis', 16, 'A'),\n",
       " ('Jessica Parker', 17, 'A'),\n",
       " ('Ashey Lim', 18, 'C'),\n",
       " ('Amanda Hanes', 16, 'B')]"
      ]
     },
     "execution_count": 22,
     "metadata": {},
     "output_type": "execute_result"
    }
   ],
   "source": [
    "cursor.execute(\"\"\"SELECT name, age, grade FROM Students\n",
    "               WHERE age <= 18 AND gender == \"Female\";\n",
    "               \"\"\")\n",
    "cursor.fetchall()"
   ]
  },
  {
   "cell_type": "markdown",
   "metadata": {},
   "source": [
    "8. Retrieve the count of male students."
   ]
  },
  {
   "cell_type": "code",
   "execution_count": 23,
   "metadata": {},
   "outputs": [
    {
     "data": {
      "text/plain": [
       "[(5,)]"
      ]
     },
     "execution_count": 23,
     "metadata": {},
     "output_type": "execute_result"
    }
   ],
   "source": [
    "cursor.execute(\"\"\"SELECT COUNT(*) FROM Students\n",
    "               WHERE gender == \"Male\";\n",
    "               \"\"\")\n",
    "cursor.fetchall()"
   ]
  },
  {
   "cell_type": "markdown",
   "metadata": {},
   "source": [
    "9. Retrieve the students who are between 16 or 19 years old."
   ]
  },
  {
   "cell_type": "code",
   "execution_count": 29,
   "metadata": {},
   "outputs": [
    {
     "data": {
      "text/plain": [
       "[('Sarah Davis', 16),\n",
       " ('Amanda Hanes', 16),\n",
       " ('Emily Clark', 17),\n",
       " ('Jessica Parker', 17),\n",
       " ('Christopher Chen', 17),\n",
       " ('John Di', 18),\n",
       " ('David Poms', 18),\n",
       " ('Ashey Lim', 18),\n",
       " ('Micheal Santos', 19),\n",
       " ('Matthew Ross', 19)]"
      ]
     },
     "execution_count": 29,
     "metadata": {},
     "output_type": "execute_result"
    }
   ],
   "source": [
    "cursor.execute(\"\"\"SELECT name, age FROM Students\n",
    "               WHERE 16 <= age <=19 \n",
    "               ORDER BY age ASC;\n",
    "               \"\"\")\n",
    "# WHERE age BETWEEN 16 AND 19 ;\n",
    "cursor.fetchall()"
   ]
  },
  {
   "cell_type": "markdown",
   "metadata": {},
   "source": [
    "10. Retrieve the name and grade of students whose grades are 'B' or 'C' and are older than or equal to 18 years old."
   ]
  },
  {
   "cell_type": "code",
   "execution_count": null,
   "metadata": {},
   "outputs": [
    {
     "data": {
      "text/plain": [
       "[('Micheal Santos', 'C', 19), ('David Poms', 'B', 18), ('Ashey Lim', 'C', 18)]"
      ]
     },
     "execution_count": 48,
     "metadata": {},
     "output_type": "execute_result"
    }
   ],
   "source": [
    "cursor.execute(\"\"\"SELECT name, grade, age FROM Students\n",
    "               WHERE (grade = \"B\" OR grade = \"C\") AND age >= 18;\n",
    "               \"\"\")\n",
    "cursor.fetchall()"
   ]
  },
  {
   "cell_type": "markdown",
   "metadata": {},
   "source": [
    "11. Retrieve the name and age of students whose names start with 'A'."
   ]
  },
  {
   "cell_type": "code",
   "execution_count": 52,
   "metadata": {},
   "outputs": [
    {
     "data": {
      "text/plain": [
       "[('Ashey Lim', 18), ('Amanda Hanes', 16)]"
      ]
     },
     "execution_count": 52,
     "metadata": {},
     "output_type": "execute_result"
    }
   ],
   "source": [
    "cursor.execute(\"\"\"SELECT name, age FROM Students\n",
    "               WHERE name LIKE 'A%';\n",
    "               \"\"\")\n",
    "cursor.fetchall()"
   ]
  },
  {
   "cell_type": "markdown",
   "metadata": {},
   "source": [
    "12. Retrieve the first 5 students whose names contain the letter 'i'."
   ]
  },
  {
   "cell_type": "code",
   "execution_count": 55,
   "metadata": {},
   "outputs": [
    {
     "data": {
      "text/plain": [
       "[(1, 'John Di', 18, 'Male', 'A'),\n",
       " (2, 'Emily Clark', 17, 'Female', 'B'),\n",
       " (3, 'Micheal Santos', 19, 'Male', 'C'),\n",
       " (4, 'Sarah Davis', 16, 'Female', 'A'),\n",
       " (5, 'David Poms', 18, 'Male', 'B')]"
      ]
     },
     "execution_count": 55,
     "metadata": {},
     "output_type": "execute_result"
    }
   ],
   "source": [
    "cursor.execute(\"\"\"SELECT * FROM Students\n",
    "               WHERE name LIKE '%i%'\n",
    "               LIMIT 0, 5;\n",
    "               \"\"\")\n",
    "cursor.fetchall()"
   ]
  }
 ],
 "metadata": {
  "kernelspec": {
   "display_name": "Python 3",
   "language": "python",
   "name": "python3"
  },
  "language_info": {
   "codemirror_mode": {
    "name": "ipython",
    "version": 3
   },
   "file_extension": ".py",
   "mimetype": "text/x-python",
   "name": "python",
   "nbconvert_exporter": "python",
   "pygments_lexer": "ipython3",
   "version": "3.13.0"
  }
 },
 "nbformat": 4,
 "nbformat_minor": 2
}
